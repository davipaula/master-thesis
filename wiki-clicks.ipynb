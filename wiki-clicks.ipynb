{
 "cells": [
  {
   "cell_type": "markdown",
   "metadata": {},
   "source": [
    "# Wikipedia Click Prediction\n",
    "\n",
    "Given a Wikipedia dump, we extract all articles and their structed content (title, sections, subsections, paragraph, sentence, words). With the extracted text data and [the clickstream data](https://meta.wikimedia.org/wiki/Research:Wikipedia_clickstream), we predict clicks from one article to another based on its content.\n",
    "\n",
    "- Download dump from: https://dumps.wikimedia.org/simplewiki/ and/or https://dumps.wikimedia.org/enwiki/\n",
    "- Clickstreams from: https://dumps.wikimedia.org/other/clickstream/2019-08/\n",
    "\n",
    "\n",
    "#### Format\n",
    "\n",
    "The current data includes the following 4 fields:\n",
    "```\n",
    "    prev: the result of mapping the referer URL to the fixed set of values described above\n",
    "    curr: the title of the article the client requested\n",
    "    type: describes (prev, curr)\n",
    "        link: if the referer and request are both articles and the referer links to the request\n",
    "        external: if the referer host is not en(.m)?.wikipedia.org\n",
    "        other: if the referer and request are both articles but the referer does not link to the request. This can happen when clients search or spoof their refer.\n",
    "\n",
    "    n: the number of occurrences of the (referer, resource) pair\n",
    "```\n",
    "\n",
    "### Learning\n",
    "\n",
    "```\n",
    "HAN: encode(a) + encode(b)\n",
    "\n",
    "Siamese: a+b => click count \n",
    "(add negative examples for better learning: a + c = 0 - if no click data exist, or even further away in click path)\n",
    "\n",
    "```"
   ]
  },
  {
   "cell_type": "code",
   "execution_count": null,
   "metadata": {},
   "outputs": [],
   "source": [
    "import logging\n",
    "import re\n",
    "import json\n",
    "import pandas as pd\n",
    "from tqdm import tqdm_notebook as tqdm"
   ]
  },
  {
   "cell_type": "code",
   "execution_count": null,
   "metadata": {},
   "outputs": [],
   "source": [
    "cs_dump_path = './data/clickstream-enwiki-2019-08.tsv'\n",
    "docs_path = './data/simplewiki.jsonl'"
   ]
  },
  {
   "cell_type": "code",
   "execution_count": null,
   "metadata": {},
   "outputs": [],
   "source": [
    "LOG_FORMAT = '[%(asctime)s] [%(levelname)s] %(message)s (%(funcName)s@%(filename)s:%(lineno)s)'\n",
    "logging.basicConfig(level=logging.INFO, format=LOG_FORMAT)\n"
   ]
  },
  {
   "cell_type": "code",
   "execution_count": null,
   "metadata": {},
   "outputs": [],
   "source": [
    "rows = []\n",
    "\n",
    "with open(cs_dump_path, 'r') as f:\n",
    "    for i, line in enumerate(f):\n",
    "        cols = line.split('\\t')\n",
    "        \n",
    "        if cols[2] == 'link':  # type\n",
    "            rows.append([\n",
    "                cols[0], # prev\n",
    "                cols[1], # current\n",
    "                int(cols[3]), # n\n",
    "            ])\n",
    "            \n",
    "        if i == 1000:\n",
    "            break\n",
    "            \n",
    "# TODO use dumps from more months"
   ]
  },
  {
   "cell_type": "code",
   "execution_count": null,
   "metadata": {},
   "outputs": [],
   "source": [
    "df = pd.read_csv(cs_dump_path, sep='\\t', quoting=3, header=None, nrows=100, names=['prev', 'curr', 'type', 'n'])"
   ]
  },
  {
   "cell_type": "code",
   "execution_count": null,
   "metadata": {},
   "outputs": [],
   "source": [
    "df = df[df['type'] == 'link']\n",
    "df = df.drop(['type'], axis=1)"
   ]
  },
  {
   "cell_type": "code",
   "execution_count": null,
   "metadata": {},
   "outputs": [],
   "source": [
    "df.sample(n=10)"
   ]
  },
  {
   "cell_type": "code",
   "execution_count": null,
   "metadata": {},
   "outputs": [],
   "source": [
    "cdf = pd.DataFrame(rows, columns=['prev', 'current', 'n'])\n",
    "cdf.head()"
   ]
  },
  {
   "cell_type": "code",
   "execution_count": null,
   "metadata": {},
   "outputs": [],
   "source": [
    "print(f'Total click pairs: {len(cdf):,}')"
   ]
  },
  {
   "cell_type": "code",
   "execution_count": null,
   "metadata": {},
   "outputs": [],
   "source": [
    "# Load preprocessed\n",
    "title2sects = {}\n",
    "\n",
    "with open(docs_path, 'r') as f:\n",
    "    for i, line in enumerate(f):\n",
    "        doc = json.loads(line)\n",
    "        \n",
    "        title = doc['title'].replace(' ', '_')\n",
    "        title2sects[title] = [sect['paragraphs'] for sect in doc['sections']]\n",
    "        \n",
    "        break\n",
    "        \n",
    "print(f'Completed after {i} lines')"
   ]
  },
  {
   "cell_type": "code",
   "execution_count": null,
   "metadata": {},
   "outputs": [],
   "source": [
    "doc"
   ]
  },
  {
   "cell_type": "code",
   "execution_count": null,
   "metadata": {},
   "outputs": [],
   "source": [
    "available_titles = set(title2sects.keys())  # save as set (makes it faster)"
   ]
  },
  {
   "cell_type": "code",
   "execution_count": null,
   "metadata": {},
   "outputs": [],
   "source": [
    "# Clicks for that we have matching articles\n",
    "# fdf = cdf[(cdf['prev'].isin(available_titles)) & (cdf['current'].isin(available_titles))].copy()\n",
    "\n",
    "fdf = cdf\n",
    "\n",
    "print(f'Click pairs with articles: {len(fdf):,}')"
   ]
  },
  {
   "cell_type": "code",
   "execution_count": null,
   "metadata": {},
   "outputs": [],
   "source": [
    "fdf.sample(n=10)"
   ]
  },
  {
   "cell_type": "code",
   "execution_count": null,
   "metadata": {},
   "outputs": [],
   "source": [
    "fdf['rel_n'] = 0"
   ]
  },
  {
   "cell_type": "code",
   "execution_count": null,
   "metadata": {},
   "outputs": [],
   "source": [
    "max_n = fdf.groupby(['prev']).max()\n",
    "max_n.sample(n=3)"
   ]
  },
  {
   "cell_type": "code",
   "execution_count": null,
   "metadata": {},
   "outputs": [],
   "source": [
    "# One example\n",
    "max_n['n']['Zeus']"
   ]
  },
  {
   "cell_type": "code",
   "execution_count": null,
   "metadata": {},
   "outputs": [],
   "source": [
    "fdf = fdf.merge(max_n, on='prev')"
   ]
  },
  {
   "cell_type": "code",
   "execution_count": null,
   "metadata": {},
   "outputs": [],
   "source": [
    "fdf['rel_n2'] = fdf['n_x'] / fdf['n_y']"
   ]
  },
  {
   "cell_type": "code",
   "execution_count": null,
   "metadata": {},
   "outputs": [],
   "source": [
    "count_article = fdf.groupby(['prev']).count()"
   ]
  },
  {
   "cell_type": "code",
   "execution_count": null,
   "metadata": {},
   "outputs": [],
   "source": [
    "fdf[fdf['prev'] == '1870']"
   ]
  },
  {
   "cell_type": "code",
   "execution_count": null,
   "metadata": {},
   "outputs": [],
   "source": [
    "# Normalize click count with max value\n",
    "fdf['rel_n'] = 0.\n",
    "\n",
    "for idx, r in fdf.iterrows():\n",
    "    fdf.at[idx, 'rel_n'] = r['n'] / max_n['n'][r['prev']]\n"
   ]
  },
  {
   "cell_type": "markdown",
   "metadata": {},
   "source": [
    "# Playing around with Wiki text data"
   ]
  },
  {
   "cell_type": "code",
   "execution_count": null,
   "metadata": {},
   "outputs": [],
   "source": [
    "from gensim.scripts.segment_wiki import extract_page_xmls\n",
    "\n",
    "wiki_dump_path = './data/simplewiki-20191220-pages-articles.xml'\n",
    "\n",
    "with open(wiki_dump_path, 'rb') as xml_fileobj:\n",
    "    page_xmls = extract_page_xmls(xml_fileobj)\n",
    "    \n",
    "    for i, page_xml in enumerate(page_xmls):\n",
    "        print(page_xml)\n",
    "    \n",
    "        break"
   ]
  },
  {
   "cell_type": "code",
   "execution_count": 113,
   "metadata": {},
   "outputs": [
    {
     "name": "stdout",
     "output_type": "stream",
     "text": [
      "  c1      c2  c3\n",
      "0  a   Paris   1\n",
      "1  b    Rome   2\n",
      "2  c     Rio   3\n",
      "3  d  Berlin   4\n",
      "  c1         c2  c3\n",
      "0  a    Nairobi  11\n",
      "1  b       Rome  12\n",
      "2  e        Rio  13\n",
      "3  f  Barcelona  14\n"
     ]
    }
   ],
   "source": [
    "a = pd.Series(['a', 'b', 'c', 'd'])\n",
    "a1 = pd.Series(['Paris', 'Rome', 'Rio', 'Berlin'])\n",
    "b = pd.Series([1, 2, 3, 4])\n",
    "df1 = pd.DataFrame(zip(a, a1, b))\n",
    "df1.columns = ['c1', 'c2', 'c3']\n",
    "\n",
    "c = pd.Series(['a', 'b', 'e', 'f'])\n",
    "c1 = pd.Series(['Nairobi', 'Rome', 'Rio', 'Barcelona'])\n",
    "d = pd.Series([11, 12, 13, 14])\n",
    "df2 = pd.DataFrame(zip(c, c1, d))\n",
    "df2.columns = ['c1', 'c2', 'c3']\n",
    "\n",
    "print(df1)\n",
    "print(df2)\n"
   ]
  },
  {
   "cell_type": "code",
   "execution_count": 118,
   "metadata": {},
   "outputs": [
    {
     "data": {
      "text/html": [
       "<div>\n",
       "<style scoped>\n",
       "    .dataframe tbody tr th:only-of-type {\n",
       "        vertical-align: middle;\n",
       "    }\n",
       "\n",
       "    .dataframe tbody tr th {\n",
       "        vertical-align: top;\n",
       "    }\n",
       "\n",
       "    .dataframe thead th {\n",
       "        text-align: right;\n",
       "    }\n",
       "</style>\n",
       "<table border=\"1\" class=\"dataframe\">\n",
       "  <thead>\n",
       "    <tr style=\"text-align: right;\">\n",
       "      <th></th>\n",
       "      <th>c1</th>\n",
       "      <th>c2</th>\n",
       "      <th>c3_x</th>\n",
       "      <th>c3_y</th>\n",
       "    </tr>\n",
       "  </thead>\n",
       "  <tbody>\n",
       "    <tr>\n",
       "      <th>1</th>\n",
       "      <td>a</td>\n",
       "      <td>Nairobi</td>\n",
       "      <td>NaN</td>\n",
       "      <td>11</td>\n",
       "    </tr>\n",
       "    <tr>\n",
       "      <th>2</th>\n",
       "      <td>e</td>\n",
       "      <td>Rio</td>\n",
       "      <td>NaN</td>\n",
       "      <td>13</td>\n",
       "    </tr>\n",
       "    <tr>\n",
       "      <th>3</th>\n",
       "      <td>f</td>\n",
       "      <td>Barcelona</td>\n",
       "      <td>NaN</td>\n",
       "      <td>14</td>\n",
       "    </tr>\n",
       "  </tbody>\n",
       "</table>\n",
       "</div>"
      ],
      "text/plain": [
       "  c1         c2  c3_x  c3_y\n",
       "1  a    Nairobi   NaN    11\n",
       "2  e        Rio   NaN    13\n",
       "3  f  Barcelona   NaN    14"
      ]
     },
     "execution_count": 118,
     "metadata": {},
     "output_type": "execute_result"
    }
   ],
   "source": [
    "df3 = pd.merge(df1, df2, on=['c1', 'c2'], how='right')\n",
    "df3[df3['c3_x'].isna()]"
   ]
  },
  {
   "cell_type": "code",
   "execution_count": null,
   "metadata": {},
   "outputs": [],
   "source": [
    "df"
   ]
  },
  {
   "cell_type": "code",
   "execution_count": null,
   "metadata": {},
   "outputs": [],
   "source": []
  }
 ],
 "metadata": {
  "kernelspec": {
   "display_name": "Python 3",
   "language": "python",
   "name": "python3"
  },
  "language_info": {
   "codemirror_mode": {
    "name": "ipython",
    "version": 3
   },
   "file_extension": ".py",
   "mimetype": "text/x-python",
   "name": "python",
   "nbconvert_exporter": "python",
   "pygments_lexer": "ipython3",
   "version": "3.7.6"
  }
 },
 "nbformat": 4,
 "nbformat_minor": 2
}
