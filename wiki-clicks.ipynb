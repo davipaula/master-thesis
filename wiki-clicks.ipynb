{
 "cells": [
  {
   "cell_type": "markdown",
   "metadata": {},
   "source": [
    "# Wikipedia Click Prediction\n",
    "\n",
    "Given a Wikipedia dump, we extract all articles and their structed content (title, sections, subsections, paragraph, sentence, words). With the extracted text data and [the clickstream data](https://meta.wikimedia.org/wiki/Research:Wikipedia_clickstream), we predict clicks from one article to another based on its content.\n",
    "\n",
    "- Download dump from: https://dumps.wikimedia.org/simplewiki/ and/or https://dumps.wikimedia.org/enwiki/\n",
    "- Clickstreams from: https://dumps.wikimedia.org/other/clickstream/2019-08/\n",
    "\n",
    "\n",
    "#### Format\n",
    "\n",
    "The current data includes the following 4 fields:\n",
    "```\n",
    "    prev: the result of mapping the referer URL to the fixed set of values described above\n",
    "    curr: the title of the article the client requested\n",
    "    type: describes (prev, curr)\n",
    "        link: if the referer and request are both articles and the referer links to the request\n",
    "        external: if the referer host is not en(.m)?.wikipedia.org\n",
    "        other: if the referer and request are both articles but the referer does not link to the request. This can happen when clients search or spoof their refer.\n",
    "\n",
    "    n: the number of occurrences of the (referer, resource) pair\n",
    "```\n",
    "\n",
    "### Learning\n",
    "\n",
    "```\n",
    "HAN: encode(a) + encode(b)\n",
    "\n",
    "Siamese: a+b => click count \n",
    "(add negative examples for better learning: a + c = 0 - if no click data exist, or even further away in click path)\n",
    "\n",
    "```"
   ]
  },
  {
   "cell_type": "code",
   "execution_count": 163,
   "metadata": {},
   "outputs": [],
   "source": [
    "import logging\n",
    "import re\n",
    "import json\n",
    "import pandas as pd\n",
    "from tqdm import tqdm_notebook as tqdm"
   ]
  },
  {
   "cell_type": "code",
   "execution_count": 144,
   "metadata": {},
   "outputs": [],
   "source": [
    "cs_dump_path = '/Volumes/data/repo/data/wikipedia/clickstream-enwiki-2019-08.tsv'\n",
    "docs_path = 'simplewiki.jsonl'"
   ]
  },
  {
   "cell_type": "code",
   "execution_count": 136,
   "metadata": {},
   "outputs": [],
   "source": [
    "LOG_FORMAT = '[%(asctime)s] [%(levelname)s] %(message)s (%(funcName)s@%(filename)s:%(lineno)s)'\n",
    "logging.basicConfig(level=logging.INFO, format=LOG_FORMAT)\n"
   ]
  },
  {
   "cell_type": "code",
   "execution_count": 142,
   "metadata": {},
   "outputs": [],
   "source": [
    "rows = []\n",
    "\n",
    "with open(cs_dump_path, 'r') as f:\n",
    "    for i, line in enumerate(f):\n",
    "        cols = line.split('\\t')\n",
    "        \n",
    "        if cols[2] == 'link':  # type\n",
    "            rows.append([\n",
    "                cols[0], # prev\n",
    "                cols[1], # current\n",
    "                int(cols[3]), # n\n",
    "            ])\n",
    "            \n",
    "# TODO use dumps from more months"
   ]
  },
  {
   "cell_type": "code",
   "execution_count": 139,
   "metadata": {},
   "outputs": [
    {
     "data": {
      "text/html": [
       "<div>\n",
       "<style scoped>\n",
       "    .dataframe tbody tr th:only-of-type {\n",
       "        vertical-align: middle;\n",
       "    }\n",
       "\n",
       "    .dataframe tbody tr th {\n",
       "        vertical-align: top;\n",
       "    }\n",
       "\n",
       "    .dataframe thead th {\n",
       "        text-align: right;\n",
       "    }\n",
       "</style>\n",
       "<table border=\"1\" class=\"dataframe\">\n",
       "  <thead>\n",
       "    <tr style=\"text-align: right;\">\n",
       "      <th></th>\n",
       "      <th>prev</th>\n",
       "      <th>current</th>\n",
       "      <th>n</th>\n",
       "    </tr>\n",
       "  </thead>\n",
       "  <tbody>\n",
       "    <tr>\n",
       "      <th>0</th>\n",
       "      <td>Henrik_Purienne</td>\n",
       "      <td>Mirage_(magazine)</td>\n",
       "      <td>35</td>\n",
       "    </tr>\n",
       "    <tr>\n",
       "      <th>1</th>\n",
       "      <td>African_wild_dog</td>\n",
       "      <td>Tswalu_Kalahari_Reserve</td>\n",
       "      <td>60</td>\n",
       "    </tr>\n",
       "    <tr>\n",
       "      <th>2</th>\n",
       "      <td>Common_warthog</td>\n",
       "      <td>Tswalu_Kalahari_Reserve</td>\n",
       "      <td>24</td>\n",
       "    </tr>\n",
       "    <tr>\n",
       "      <th>3</th>\n",
       "      <td>Greater_kudu</td>\n",
       "      <td>Tswalu_Kalahari_Reserve</td>\n",
       "      <td>14</td>\n",
       "    </tr>\n",
       "    <tr>\n",
       "      <th>4</th>\n",
       "      <td>Sable_antelope</td>\n",
       "      <td>Tswalu_Kalahari_Reserve</td>\n",
       "      <td>26</td>\n",
       "    </tr>\n",
       "  </tbody>\n",
       "</table>\n",
       "</div>"
      ],
      "text/plain": [
       "               prev                  current   n\n",
       "0   Henrik_Purienne        Mirage_(magazine)  35\n",
       "1  African_wild_dog  Tswalu_Kalahari_Reserve  60\n",
       "2    Common_warthog  Tswalu_Kalahari_Reserve  24\n",
       "3      Greater_kudu  Tswalu_Kalahari_Reserve  14\n",
       "4    Sable_antelope  Tswalu_Kalahari_Reserve  26"
      ]
     },
     "execution_count": 139,
     "metadata": {},
     "output_type": "execute_result"
    }
   ],
   "source": [
    "cdf = pd.DataFrame(rows, columns=['prev', 'current', 'n'])\n",
    "cdf.head()"
   ]
  },
  {
   "cell_type": "code",
   "execution_count": 141,
   "metadata": {},
   "outputs": [
    {
     "name": "stdout",
     "output_type": "stream",
     "text": [
      "Total click pairs: 20,599,206\n"
     ]
    }
   ],
   "source": [
    "print(f'Total click pairs: {len(cdf):,}')"
   ]
  },
  {
   "cell_type": "code",
   "execution_count": 147,
   "metadata": {},
   "outputs": [
    {
     "name": "stdout",
     "output_type": "stream",
     "text": [
      "Completed after 10000 lines\n"
     ]
    }
   ],
   "source": [
    "# Load preprocessed\n",
    "title2sects = {}\n",
    "\n",
    "with open(docs_path, 'r') as f:\n",
    "    for i, line in enumerate(f):\n",
    "        doc = json.loads(line)\n",
    "        \n",
    "        title = doc['title'].replace(' ', '_')\n",
    "        title2sects[title] = [sect['paragraphs'] for sect in doc['sections']]\n",
    "        \n",
    "print(f'Completed after {i} lines')"
   ]
  },
  {
   "cell_type": "code",
   "execution_count": 159,
   "metadata": {},
   "outputs": [],
   "source": [
    "available_titles = set(title2sects.keys())  # save as set (makes it faster)"
   ]
  },
  {
   "cell_type": "code",
   "execution_count": 207,
   "metadata": {},
   "outputs": [
    {
     "name": "stdout",
     "output_type": "stream",
     "text": [
      "Click pairs with articles: 144,016\n"
     ]
    }
   ],
   "source": [
    "# Clicks for that we have matching articles\n",
    "fdf = cdf[(cdf['prev'].isin(available_titles)) & (cdf['current'].isin(available_titles))].copy()\n",
    "\n",
    "print(f'Click pairs with articles: {len(fdf):,}')"
   ]
  },
  {
   "cell_type": "code",
   "execution_count": 208,
   "metadata": {},
   "outputs": [
    {
     "data": {
      "text/html": [
       "<div>\n",
       "<style scoped>\n",
       "    .dataframe tbody tr th:only-of-type {\n",
       "        vertical-align: middle;\n",
       "    }\n",
       "\n",
       "    .dataframe tbody tr th {\n",
       "        vertical-align: top;\n",
       "    }\n",
       "\n",
       "    .dataframe thead th {\n",
       "        text-align: right;\n",
       "    }\n",
       "</style>\n",
       "<table border=\"1\" class=\"dataframe\">\n",
       "  <thead>\n",
       "    <tr style=\"text-align: right;\">\n",
       "      <th></th>\n",
       "      <th>prev</th>\n",
       "      <th>current</th>\n",
       "      <th>n</th>\n",
       "    </tr>\n",
       "  </thead>\n",
       "  <tbody>\n",
       "    <tr>\n",
       "      <th>3066709</th>\n",
       "      <td>Newfoundland_and_Labrador</td>\n",
       "      <td>Yukon</td>\n",
       "      <td>219</td>\n",
       "    </tr>\n",
       "    <tr>\n",
       "      <th>7342140</th>\n",
       "      <td>Chicken</td>\n",
       "      <td>Babylonia</td>\n",
       "      <td>31</td>\n",
       "    </tr>\n",
       "    <tr>\n",
       "      <th>14281982</th>\n",
       "      <td>Computer_hardware</td>\n",
       "      <td>Software</td>\n",
       "      <td>714</td>\n",
       "    </tr>\n",
       "    <tr>\n",
       "      <th>4251505</th>\n",
       "      <td>Village</td>\n",
       "      <td>Mahatma_Gandhi</td>\n",
       "      <td>13</td>\n",
       "    </tr>\n",
       "    <tr>\n",
       "      <th>11190678</th>\n",
       "      <td>Hardcore_punk</td>\n",
       "      <td>The_Dillinger_Escape_Plan</td>\n",
       "      <td>26</td>\n",
       "    </tr>\n",
       "    <tr>\n",
       "      <th>16642895</th>\n",
       "      <td>Partition_of_India</td>\n",
       "      <td>Myanmar</td>\n",
       "      <td>723</td>\n",
       "    </tr>\n",
       "    <tr>\n",
       "      <th>4125728</th>\n",
       "      <td>Adam_Smith</td>\n",
       "      <td>Peace</td>\n",
       "      <td>15</td>\n",
       "    </tr>\n",
       "    <tr>\n",
       "      <th>17456518</th>\n",
       "      <td>Brazil</td>\n",
       "      <td>Airport</td>\n",
       "      <td>10</td>\n",
       "    </tr>\n",
       "    <tr>\n",
       "      <th>14743035</th>\n",
       "      <td>1860</td>\n",
       "      <td>1859</td>\n",
       "      <td>120</td>\n",
       "    </tr>\n",
       "    <tr>\n",
       "      <th>17171706</th>\n",
       "      <td>Masturbation</td>\n",
       "      <td>Western_world</td>\n",
       "      <td>290</td>\n",
       "    </tr>\n",
       "  </tbody>\n",
       "</table>\n",
       "</div>"
      ],
      "text/plain": [
       "                               prev                    current    n\n",
       "3066709   Newfoundland_and_Labrador                      Yukon  219\n",
       "7342140                     Chicken                  Babylonia   31\n",
       "14281982          Computer_hardware                   Software  714\n",
       "4251505                     Village             Mahatma_Gandhi   13\n",
       "11190678              Hardcore_punk  The_Dillinger_Escape_Plan   26\n",
       "16642895         Partition_of_India                    Myanmar  723\n",
       "4125728                  Adam_Smith                      Peace   15\n",
       "17456518                     Brazil                    Airport   10\n",
       "14743035                       1860                       1859  120\n",
       "17171706               Masturbation              Western_world  290"
      ]
     },
     "execution_count": 208,
     "metadata": {},
     "output_type": "execute_result"
    }
   ],
   "source": [
    "fdf.sample(n=10)"
   ]
  },
  {
   "cell_type": "code",
   "execution_count": 176,
   "metadata": {},
   "outputs": [],
   "source": [
    "fdf['rel_n'] = 0"
   ]
  },
  {
   "cell_type": "code",
   "execution_count": 202,
   "metadata": {},
   "outputs": [
    {
     "data": {
      "text/html": [
       "<div>\n",
       "<style scoped>\n",
       "    .dataframe tbody tr th:only-of-type {\n",
       "        vertical-align: middle;\n",
       "    }\n",
       "\n",
       "    .dataframe tbody tr th {\n",
       "        vertical-align: top;\n",
       "    }\n",
       "\n",
       "    .dataframe thead th {\n",
       "        text-align: right;\n",
       "    }\n",
       "</style>\n",
       "<table border=\"1\" class=\"dataframe\">\n",
       "  <thead>\n",
       "    <tr style=\"text-align: right;\">\n",
       "      <th></th>\n",
       "      <th>n</th>\n",
       "    </tr>\n",
       "    <tr>\n",
       "      <th>prev</th>\n",
       "      <th></th>\n",
       "    </tr>\n",
       "  </thead>\n",
       "  <tbody>\n",
       "    <tr>\n",
       "      <th>Sunset</th>\n",
       "      <td>471</td>\n",
       "    </tr>\n",
       "    <tr>\n",
       "      <th>GNU_General_Public_License</th>\n",
       "      <td>605</td>\n",
       "    </tr>\n",
       "    <tr>\n",
       "      <th>Polytheism</th>\n",
       "      <td>457</td>\n",
       "    </tr>\n",
       "  </tbody>\n",
       "</table>\n",
       "</div>"
      ],
      "text/plain": [
       "                              n\n",
       "prev                           \n",
       "Sunset                      471\n",
       "GNU_General_Public_License  605\n",
       "Polytheism                  457"
      ]
     },
     "execution_count": 202,
     "metadata": {},
     "output_type": "execute_result"
    }
   ],
   "source": [
    "max_n = fdf.groupby(['prev']).agg({'n': 'max'})\n",
    "max_n.sample(n=3)"
   ]
  },
  {
   "cell_type": "code",
   "execution_count": 218,
   "metadata": {},
   "outputs": [
    {
     "data": {
      "text/plain": [
       "5090"
      ]
     },
     "execution_count": 218,
     "metadata": {},
     "output_type": "execute_result"
    }
   ],
   "source": [
    "# One example\n",
    "max_n['n']['Zeus']"
   ]
  },
  {
   "cell_type": "code",
   "execution_count": 216,
   "metadata": {},
   "outputs": [],
   "source": [
    "# Normalize click count with max value\n",
    "fdf['rel_n'] = 0.\n",
    "\n",
    "for idx, r in fdf.iterrows():\n",
    "    fdf.at[idx, 'rel_n'] = r['n'] / max_n['n'][r['prev']]\n"
   ]
  },
  {
   "cell_type": "code",
   "execution_count": null,
   "metadata": {},
   "outputs": [],
   "source": []
  },
  {
   "cell_type": "code",
   "execution_count": 217,
   "metadata": {},
   "outputs": [
    {
     "data": {
      "text/html": [
       "<div>\n",
       "<style scoped>\n",
       "    .dataframe tbody tr th:only-of-type {\n",
       "        vertical-align: middle;\n",
       "    }\n",
       "\n",
       "    .dataframe tbody tr th {\n",
       "        vertical-align: top;\n",
       "    }\n",
       "\n",
       "    .dataframe thead th {\n",
       "        text-align: right;\n",
       "    }\n",
       "</style>\n",
       "<table border=\"1\" class=\"dataframe\">\n",
       "  <thead>\n",
       "    <tr style=\"text-align: right;\">\n",
       "      <th></th>\n",
       "      <th>prev</th>\n",
       "      <th>current</th>\n",
       "      <th>n</th>\n",
       "      <th>max_n</th>\n",
       "      <th>rel_n</th>\n",
       "    </tr>\n",
       "  </thead>\n",
       "  <tbody>\n",
       "    <tr>\n",
       "      <th>3941382</th>\n",
       "      <td>Silver</td>\n",
       "      <td>Lahn</td>\n",
       "      <td>15</td>\n",
       "      <td>927</td>\n",
       "      <td>0.016181</td>\n",
       "    </tr>\n",
       "    <tr>\n",
       "      <th>19692937</th>\n",
       "      <td>Tanzania</td>\n",
       "      <td>Uganda</td>\n",
       "      <td>582</td>\n",
       "      <td>1958</td>\n",
       "      <td>0.297242</td>\n",
       "    </tr>\n",
       "    <tr>\n",
       "      <th>1831337</th>\n",
       "      <td>Münster</td>\n",
       "      <td>Osnabrück</td>\n",
       "      <td>31</td>\n",
       "      <td>226</td>\n",
       "      <td>0.137168</td>\n",
       "    </tr>\n",
       "    <tr>\n",
       "      <th>7334701</th>\n",
       "      <td>Yugoslavia</td>\n",
       "      <td>Luftwaffe</td>\n",
       "      <td>13</td>\n",
       "      <td>6299</td>\n",
       "      <td>0.002064</td>\n",
       "    </tr>\n",
       "    <tr>\n",
       "      <th>7768008</th>\n",
       "      <td>Methane</td>\n",
       "      <td>Natural_gas</td>\n",
       "      <td>460</td>\n",
       "      <td>460</td>\n",
       "      <td>1.000000</td>\n",
       "    </tr>\n",
       "    <tr>\n",
       "      <th>15594330</th>\n",
       "      <td>Hungary</td>\n",
       "      <td>Slovenia</td>\n",
       "      <td>346</td>\n",
       "      <td>3290</td>\n",
       "      <td>0.105167</td>\n",
       "    </tr>\n",
       "    <tr>\n",
       "      <th>16428285</th>\n",
       "      <td>November_3</td>\n",
       "      <td>November_5</td>\n",
       "      <td>11</td>\n",
       "      <td>125</td>\n",
       "      <td>0.088000</td>\n",
       "    </tr>\n",
       "    <tr>\n",
       "      <th>11512521</th>\n",
       "      <td>Moose</td>\n",
       "      <td>Mammal</td>\n",
       "      <td>20</td>\n",
       "      <td>1162</td>\n",
       "      <td>0.017212</td>\n",
       "    </tr>\n",
       "    <tr>\n",
       "      <th>5719026</th>\n",
       "      <td>Thuringia</td>\n",
       "      <td>Friedrich_Schiller</td>\n",
       "      <td>26</td>\n",
       "      <td>1033</td>\n",
       "      <td>0.025169</td>\n",
       "    </tr>\n",
       "    <tr>\n",
       "      <th>310407</th>\n",
       "      <td>Cellular_respiration</td>\n",
       "      <td>Photosynthesis</td>\n",
       "      <td>50</td>\n",
       "      <td>194</td>\n",
       "      <td>0.257732</td>\n",
       "    </tr>\n",
       "  </tbody>\n",
       "</table>\n",
       "</div>"
      ],
      "text/plain": [
       "                          prev             current    n  max_n     rel_n\n",
       "3941382                 Silver                Lahn   15    927  0.016181\n",
       "19692937              Tanzania              Uganda  582   1958  0.297242\n",
       "1831337                Münster           Osnabrück   31    226  0.137168\n",
       "7334701             Yugoslavia           Luftwaffe   13   6299  0.002064\n",
       "7768008                Methane         Natural_gas  460    460  1.000000\n",
       "15594330               Hungary            Slovenia  346   3290  0.105167\n",
       "16428285            November_3          November_5   11    125  0.088000\n",
       "11512521                 Moose              Mammal   20   1162  0.017212\n",
       "5719026              Thuringia  Friedrich_Schiller   26   1033  0.025169\n",
       "310407    Cellular_respiration      Photosynthesis   50    194  0.257732"
      ]
     },
     "execution_count": 217,
     "metadata": {},
     "output_type": "execute_result"
    }
   ],
   "source": [
    "fdf.sample(n=10)"
   ]
  },
  {
   "cell_type": "code",
   "execution_count": null,
   "metadata": {},
   "outputs": [],
   "source": []
  }
 ],
 "metadata": {
  "kernelspec": {
   "display_name": "Python 3",
   "language": "python",
   "name": "python3"
  },
  "language_info": {
   "codemirror_mode": {
    "name": "ipython",
    "version": 3
   },
   "file_extension": ".py",
   "mimetype": "text/x-python",
   "name": "python",
   "nbconvert_exporter": "python",
   "pygments_lexer": "ipython3",
   "version": "3.7.4"
  }
 },
 "nbformat": 4,
 "nbformat_minor": 2
}
