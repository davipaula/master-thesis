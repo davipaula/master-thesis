{
 "cells": [
  {
   "cell_type": "markdown",
   "metadata": {},
   "source": [
    "This notebook allows to explore the results of predicting the `click_rate` from `source_article` to `target_article` using different models (Doc2Vec, Wikipedia2Vec, Smash-RNN Paragraph Level, Smash-RNN Sentence Level and Smash-RNN Word Level).\n",
    "\n",
    "The class `ResultsAnalyzer` encapsules the logic to compute the results. Main features:\n",
    "- `get_ndcg_for_all_models`: Calculates the Normalized Discounted Cumulative Gain for each model\n",
    "- `get_map_for_all_models`: Calculates the Mean Average Precision for each model\n",
    "- `get_top_5_predicted_by_article_and_model(source_article, model)`: Gets the top 5 predictions for the `source_article`. The column `is_in_top_5` shows if the `target_article` is in the **actual** top 5 click rate.\n",
    "- `ResultsAnalyzer.results`: It is a Pandas Datafram containing the consolidated results\n",
    "- `get_sample_source_articles`: Samples 10 random `source_articles`. Can be used to manually check the results"
   ]
  },
  {
   "cell_type": "code",
   "execution_count": 1,
   "metadata": {},
   "outputs": [],
   "source": [
    "import pandas as pd\n",
    "from results_analyzer import ResultsAnalyzer\n",
    "\n",
    "results_analyzer = ResultsAnalyzer()"
   ]
  },
  {
   "cell_type": "markdown",
   "metadata": {},
   "source": [
    "Getting NDCG for all models:"
   ]
  },
  {
   "cell_type": "code",
   "execution_count": 2,
   "metadata": {},
   "outputs": [
    {
     "name": "stderr",
     "output_type": "stream",
     "text": [
      "[2020-07-27 08:24:03,181] [INFO] Calculating NDCG for each model (get_ndcg_for_all_models@results_analyzer.py:209)\n",
      "100%|██████████| 10/10 [01:26<00:00,  8.66s/it]\n"
     ]
    },
    {
     "data": {
      "text/plain": [
       "{'word': 0.6186564561748155,\n",
       " 'sentence': 0.7520079111676228,\n",
       " 'paragraph': 0.5865783418266132,\n",
       " 'word_no_sigmoid': 0.7548936484994487,\n",
       " 'sentence_no_sigmoid': 0.7606452202937065,\n",
       " 'paragraph_no_sigmoid': 0.7490948963972344,\n",
       " 'doc2vec': 0.5971752752809486,\n",
       " 'doc2vec_no_sigmoid': 0.616989843034837,\n",
       " 'wikipedia2vec': 0.8075977354419501,\n",
       " 'wikipedia2vec_no_sigmoid': 0.8057212116790428}"
      ]
     },
     "execution_count": 2,
     "metadata": {},
     "output_type": "execute_result"
    }
   ],
   "source": [
    "results_analyzer.get_ndcg_for_all_models()"
   ]
  },
  {
   "cell_type": "markdown",
   "metadata": {},
   "source": [
    "Getting MAP for all models:"
   ]
  },
  {
   "cell_type": "code",
   "execution_count": 3,
   "metadata": {},
   "outputs": [
    {
     "name": "stderr",
     "output_type": "stream",
     "text": [
      "[2020-07-27 08:25:29,939] [INFO] Calculating MAP for each model (get_map_for_all_models@results_analyzer.py:189)\n",
      "100%|██████████| 10/10 [01:26<00:00,  8.66s/it]\n"
     ]
    },
    {
     "data": {
      "text/plain": [
       "{'word': 0.4675,\n",
       " 'sentence': 0.6679,\n",
       " 'paragraph': 0.431,\n",
       " 'word_no_sigmoid': 0.6692,\n",
       " 'sentence_no_sigmoid': 0.6851,\n",
       " 'paragraph_no_sigmoid': 0.669,\n",
       " 'doc2vec': 0.4533,\n",
       " 'doc2vec_no_sigmoid': 0.4916,\n",
       " 'wikipedia2vec': 0.7515,\n",
       " 'wikipedia2vec_no_sigmoid': 0.7455}"
      ]
     },
     "execution_count": 3,
     "metadata": {},
     "output_type": "execute_result"
    }
   ],
   "source": [
    "results_analyzer.get_map_for_all_models()"
   ]
  },
  {
   "cell_type": "markdown",
   "metadata": {},
   "source": [
    "Getting a sample of the results"
   ]
  },
  {
   "cell_type": "code",
   "execution_count": 5,
   "metadata": {},
   "outputs": [
    {
     "data": {
      "text/html": [
       "<div>\n",
       "<style scoped>\n",
       "    .dataframe tbody tr th:only-of-type {\n",
       "        vertical-align: middle;\n",
       "    }\n",
       "\n",
       "    .dataframe tbody tr th {\n",
       "        vertical-align: top;\n",
       "    }\n",
       "\n",
       "    .dataframe thead th {\n",
       "        text-align: right;\n",
       "    }\n",
       "</style>\n",
       "<table border=\"1\" class=\"dataframe\">\n",
       "  <thead>\n",
       "    <tr style=\"text-align: right;\">\n",
       "      <th></th>\n",
       "      <th>model</th>\n",
       "      <th>source_article</th>\n",
       "      <th>target_article</th>\n",
       "      <th>actual_click_rate</th>\n",
       "      <th>predicted_click_rate</th>\n",
       "    </tr>\n",
       "  </thead>\n",
       "  <tbody>\n",
       "    <tr>\n",
       "      <th>6128</th>\n",
       "      <td>sentence</td>\n",
       "      <td>Colombiana</td>\n",
       "      <td>Federal Bureau of Investigation</td>\n",
       "      <td>0.000000</td>\n",
       "      <td>0.007938</td>\n",
       "    </tr>\n",
       "    <tr>\n",
       "      <th>5175</th>\n",
       "      <td>doc2vec_no_sigmoid</td>\n",
       "      <td>List of supporting Harry Potter characters</td>\n",
       "      <td>The Tales of Beedle the Bard</td>\n",
       "      <td>0.000000</td>\n",
       "      <td>0.018912</td>\n",
       "    </tr>\n",
       "    <tr>\n",
       "      <th>1598</th>\n",
       "      <td>wikipedia2vec_no_sigmoid</td>\n",
       "      <td>Kenneth Branagh</td>\n",
       "      <td>Tony Slattery</td>\n",
       "      <td>0.000000</td>\n",
       "      <td>0.004912</td>\n",
       "    </tr>\n",
       "    <tr>\n",
       "      <th>8406</th>\n",
       "      <td>doc2vec_no_sigmoid</td>\n",
       "      <td>Vietnam War</td>\n",
       "      <td>Assassination of John F. Kennedy</td>\n",
       "      <td>0.003388</td>\n",
       "      <td>0.019636</td>\n",
       "    </tr>\n",
       "    <tr>\n",
       "      <th>10432</th>\n",
       "      <td>doc2vec</td>\n",
       "      <td>Christopher Nolan</td>\n",
       "      <td>The Criterion Collection</td>\n",
       "      <td>0.000000</td>\n",
       "      <td>0.018804</td>\n",
       "    </tr>\n",
       "    <tr>\n",
       "      <th>5292</th>\n",
       "      <td>word</td>\n",
       "      <td>Indiana Jones (franchise)</td>\n",
       "      <td>Nicolas Roeg</td>\n",
       "      <td>0.000000</td>\n",
       "      <td>0.023488</td>\n",
       "    </tr>\n",
       "    <tr>\n",
       "      <th>18129</th>\n",
       "      <td>sentence</td>\n",
       "      <td>Super Bowl XLVI</td>\n",
       "      <td>.tv</td>\n",
       "      <td>0.000000</td>\n",
       "      <td>0.001054</td>\n",
       "    </tr>\n",
       "    <tr>\n",
       "      <th>1499</th>\n",
       "      <td>doc2vec</td>\n",
       "      <td>Kraftwerk</td>\n",
       "      <td>Klaus Dinger</td>\n",
       "      <td>0.016262</td>\n",
       "      <td>0.016582</td>\n",
       "    </tr>\n",
       "    <tr>\n",
       "      <th>19536</th>\n",
       "      <td>word</td>\n",
       "      <td>A. R. Rahman</td>\n",
       "      <td>Water (2005 film)</td>\n",
       "      <td>0.000000</td>\n",
       "      <td>0.023951</td>\n",
       "    </tr>\n",
       "    <tr>\n",
       "      <th>18136</th>\n",
       "      <td>doc2vec_no_sigmoid</td>\n",
       "      <td>2020 Big Ten Conference Men's Basketball Tourn...</td>\n",
       "      <td>College Basketball on CBS</td>\n",
       "      <td>0.000000</td>\n",
       "      <td>0.015419</td>\n",
       "    </tr>\n",
       "  </tbody>\n",
       "</table>\n",
       "</div>"
      ],
      "text/plain": [
       "                          model  \\\n",
       "6128                   sentence   \n",
       "5175         doc2vec_no_sigmoid   \n",
       "1598   wikipedia2vec_no_sigmoid   \n",
       "8406         doc2vec_no_sigmoid   \n",
       "10432                   doc2vec   \n",
       "5292                       word   \n",
       "18129                  sentence   \n",
       "1499                    doc2vec   \n",
       "19536                      word   \n",
       "18136        doc2vec_no_sigmoid   \n",
       "\n",
       "                                          source_article  \\\n",
       "6128                                          Colombiana   \n",
       "5175          List of supporting Harry Potter characters   \n",
       "1598                                     Kenneth Branagh   \n",
       "8406                                         Vietnam War   \n",
       "10432                                  Christopher Nolan   \n",
       "5292                           Indiana Jones (franchise)   \n",
       "18129                                    Super Bowl XLVI   \n",
       "1499                                           Kraftwerk   \n",
       "19536                                       A. R. Rahman   \n",
       "18136  2020 Big Ten Conference Men's Basketball Tourn...   \n",
       "\n",
       "                         target_article  actual_click_rate  \\\n",
       "6128    Federal Bureau of Investigation           0.000000   \n",
       "5175       The Tales of Beedle the Bard           0.000000   \n",
       "1598                      Tony Slattery           0.000000   \n",
       "8406   Assassination of John F. Kennedy           0.003388   \n",
       "10432          The Criterion Collection           0.000000   \n",
       "5292                       Nicolas Roeg           0.000000   \n",
       "18129                               .tv           0.000000   \n",
       "1499                       Klaus Dinger           0.016262   \n",
       "19536                 Water (2005 film)           0.000000   \n",
       "18136         College Basketball on CBS           0.000000   \n",
       "\n",
       "       predicted_click_rate  \n",
       "6128               0.007938  \n",
       "5175               0.018912  \n",
       "1598               0.004912  \n",
       "8406               0.019636  \n",
       "10432              0.018804  \n",
       "5292               0.023488  \n",
       "18129              0.001054  \n",
       "1499               0.016582  \n",
       "19536              0.023951  \n",
       "18136              0.015419  "
      ]
     },
     "execution_count": 5,
     "metadata": {},
     "output_type": "execute_result"
    }
   ],
   "source": [
    "results_analyzer.results.sample(n=10)"
   ]
  },
  {
   "cell_type": "markdown",
   "metadata": {},
   "source": [
    "Getting a sample of the source articles"
   ]
  },
  {
   "cell_type": "code",
   "execution_count": 6,
   "metadata": {
    "pycharm": {
     "is_executing": false
    }
   },
   "outputs": [
    {
     "data": {
      "text/plain": [
       "15479                Harvey Weinstein\n",
       "8889              American Pie (film)\n",
       "7411                      Colin Hanks\n",
       "3154         Little Women (2019 film)\n",
       "17637                   Wyatt Russell\n",
       "358                      Eiffel Tower\n",
       "11833                 Brandon Flowers\n",
       "11253                    F(x) (group)\n",
       "1357     Eurovision Song Contest 2019\n",
       "15756                         Ireland\n",
       "Name: source_article, dtype: object"
      ]
     },
     "execution_count": 6,
     "metadata": {},
     "output_type": "execute_result"
    }
   ],
   "source": [
    "results_analyzer.get_sample_source_articles()"
   ]
  },
  {
   "cell_type": "markdown",
   "metadata": {},
   "source": [
    "Getting all the available models (models `paragraph`, `sentence` and `word` refer to Smash-RNN levels.)"
   ]
  },
  {
   "cell_type": "code",
   "execution_count": 7,
   "metadata": {},
   "outputs": [
    {
     "data": {
      "text/plain": [
       "array(['word', 'sentence', 'paragraph', 'word_no_sigmoid',\n",
       "       'sentence_no_sigmoid', 'paragraph_no_sigmoid', 'doc2vec',\n",
       "       'doc2vec_no_sigmoid', 'wikipedia2vec', 'wikipedia2vec_no_sigmoid'],\n",
       "      dtype=object)"
      ]
     },
     "execution_count": 7,
     "metadata": {},
     "output_type": "execute_result"
    }
   ],
   "source": [
    "results_analyzer.get_models()"
   ]
  },
  {
   "cell_type": "markdown",
   "metadata": {},
   "source": [
    "Getting the top 5 predictions for a `source_article` and a `model`"
   ]
  },
  {
   "cell_type": "code",
   "execution_count": 14,
   "metadata": {},
   "outputs": [
    {
     "data": {
      "text/html": [
       "<div>\n",
       "<style scoped>\n",
       "    .dataframe tbody tr th:only-of-type {\n",
       "        vertical-align: middle;\n",
       "    }\n",
       "\n",
       "    .dataframe tbody tr th {\n",
       "        vertical-align: top;\n",
       "    }\n",
       "\n",
       "    .dataframe thead th {\n",
       "        text-align: right;\n",
       "    }\n",
       "</style>\n",
       "<table border=\"1\" class=\"dataframe\">\n",
       "  <thead>\n",
       "    <tr style=\"text-align: right;\">\n",
       "      <th></th>\n",
       "      <th>model</th>\n",
       "      <th>source_article</th>\n",
       "      <th>target_article</th>\n",
       "      <th>actual_click_rate</th>\n",
       "      <th>predicted_click_rate</th>\n",
       "      <th>is_in_top_articles</th>\n",
       "    </tr>\n",
       "  </thead>\n",
       "  <tbody>\n",
       "    <tr>\n",
       "      <th>19146</th>\n",
       "      <td>wikipedia2vec</td>\n",
       "      <td>Ireland</td>\n",
       "      <td>British Isles</td>\n",
       "      <td>0.011749</td>\n",
       "      <td>0.032819</td>\n",
       "      <td>True</td>\n",
       "    </tr>\n",
       "    <tr>\n",
       "      <th>2729</th>\n",
       "      <td>wikipedia2vec</td>\n",
       "      <td>Ireland</td>\n",
       "      <td>Great Famine (Ireland)</td>\n",
       "      <td>0.005367</td>\n",
       "      <td>0.030813</td>\n",
       "      <td>False</td>\n",
       "    </tr>\n",
       "    <tr>\n",
       "      <th>19366</th>\n",
       "      <td>wikipedia2vec</td>\n",
       "      <td>Ireland</td>\n",
       "      <td>Northern Ireland</td>\n",
       "      <td>0.071868</td>\n",
       "      <td>0.020845</td>\n",
       "      <td>True</td>\n",
       "    </tr>\n",
       "    <tr>\n",
       "      <th>17664</th>\n",
       "      <td>wikipedia2vec</td>\n",
       "      <td>Ireland</td>\n",
       "      <td>Republic of Ireland</td>\n",
       "      <td>0.317914</td>\n",
       "      <td>0.018831</td>\n",
       "      <td>True</td>\n",
       "    </tr>\n",
       "    <tr>\n",
       "      <th>6291</th>\n",
       "      <td>wikipedia2vec</td>\n",
       "      <td>Ireland</td>\n",
       "      <td>Dublin</td>\n",
       "      <td>0.027776</td>\n",
       "      <td>0.015403</td>\n",
       "      <td>True</td>\n",
       "    </tr>\n",
       "    <tr>\n",
       "      <th>9209</th>\n",
       "      <td>wikipedia2vec</td>\n",
       "      <td>Ireland</td>\n",
       "      <td>Saint Patrick</td>\n",
       "      <td>0.006274</td>\n",
       "      <td>0.014847</td>\n",
       "      <td>False</td>\n",
       "    </tr>\n",
       "    <tr>\n",
       "      <th>1824</th>\n",
       "      <td>wikipedia2vec</td>\n",
       "      <td>Ireland</td>\n",
       "      <td>Irish Famine (1740–41)</td>\n",
       "      <td>0.002198</td>\n",
       "      <td>0.014399</td>\n",
       "      <td>False</td>\n",
       "    </tr>\n",
       "    <tr>\n",
       "      <th>7879</th>\n",
       "      <td>wikipedia2vec</td>\n",
       "      <td>Ireland</td>\n",
       "      <td>Northwestern Europe</td>\n",
       "      <td>0.003020</td>\n",
       "      <td>0.014337</td>\n",
       "      <td>False</td>\n",
       "    </tr>\n",
       "    <tr>\n",
       "      <th>18139</th>\n",
       "      <td>wikipedia2vec</td>\n",
       "      <td>Ireland</td>\n",
       "      <td>Partition of Ireland</td>\n",
       "      <td>0.003041</td>\n",
       "      <td>0.013425</td>\n",
       "      <td>False</td>\n",
       "    </tr>\n",
       "    <tr>\n",
       "      <th>7960</th>\n",
       "      <td>wikipedia2vec</td>\n",
       "      <td>Ireland</td>\n",
       "      <td>Irish Free State</td>\n",
       "      <td>0.004130</td>\n",
       "      <td>0.012884</td>\n",
       "      <td>False</td>\n",
       "    </tr>\n",
       "  </tbody>\n",
       "</table>\n",
       "</div>"
      ],
      "text/plain": [
       "               model source_article          target_article  \\\n",
       "19146  wikipedia2vec        Ireland           British Isles   \n",
       "2729   wikipedia2vec        Ireland  Great Famine (Ireland)   \n",
       "19366  wikipedia2vec        Ireland        Northern Ireland   \n",
       "17664  wikipedia2vec        Ireland     Republic of Ireland   \n",
       "6291   wikipedia2vec        Ireland                  Dublin   \n",
       "9209   wikipedia2vec        Ireland           Saint Patrick   \n",
       "1824   wikipedia2vec        Ireland  Irish Famine (1740–41)   \n",
       "7879   wikipedia2vec        Ireland     Northwestern Europe   \n",
       "18139  wikipedia2vec        Ireland    Partition of Ireland   \n",
       "7960   wikipedia2vec        Ireland        Irish Free State   \n",
       "\n",
       "       actual_click_rate  predicted_click_rate  is_in_top_articles  \n",
       "19146           0.011749              0.032819                True  \n",
       "2729            0.005367              0.030813               False  \n",
       "19366           0.071868              0.020845                True  \n",
       "17664           0.317914              0.018831                True  \n",
       "6291            0.027776              0.015403                True  \n",
       "9209            0.006274              0.014847               False  \n",
       "1824            0.002198              0.014399               False  \n",
       "7879            0.003020              0.014337               False  \n",
       "18139           0.003041              0.013425               False  \n",
       "7960            0.004130              0.012884               False  "
      ]
     },
     "execution_count": 14,
     "metadata": {},
     "output_type": "execute_result"
    }
   ],
   "source": [
    "sample_source_article = \"Ireland\"\n",
    "model = \"wikipedia2vec\"\n",
    "\n",
    "results_analyzer.get_top_10_predicted_by_article_and_model(sample_source_article, model)"
   ]
  },
  {
   "cell_type": "markdown",
   "metadata": {},
   "source": [
    "Next steps:\n",
    "- Create some analytics to understand better the results for each model (I will need help here!)"
   ]
  }
 ],
 "metadata": {
  "kernelspec": {
   "display_name": "Python 3",
   "language": "python",
   "name": "python3"
  },
  "language_info": {
   "codemirror_mode": {
    "name": "ipython",
    "version": 3
   },
   "file_extension": ".py",
   "mimetype": "text/x-python",
   "name": "python",
   "nbconvert_exporter": "python",
   "pygments_lexer": "ipython3",
   "version": "3.7.7"
  }
 },
 "nbformat": 4,
 "nbformat_minor": 2
}
