{
 "cells": [
  {
   "cell_type": "markdown",
   "metadata": {},
   "source": [
    "This notebook allows to explore the results of predicting the `click_rate` from `source_article` to `target_article` using different models (Doc2Vec, Wikipedia2Vec, Smash-RNN Paragraph Level, Smash-RNN Sentence Level and Smash-RNN Word Level).\n",
    "\n",
    "The class `ResultsAnalyzer` encapsules the logic to compute the results. Main features:\n",
    "- `get_ndcg_for_all_models`: Calculates the Normalized Discounted Cumulative Gain for each model\n",
    "- `get_map_for_all_models`: Calculates the Mean Average Precision for each model\n",
    "- `get_top_5_predicted_by_article_and_model(source_article, model)`: Gets the top 5 predictions for the `source_article`. The column `is_in_top_5` shows if the `target_article` is in the **actual** top 5 click rate.\n",
    "- `ResultsAnalyzer.results`: It is a Pandas Datafram containing the consolidated results\n",
    "- `get_sample_source_articles`: Samples 10 random `source_articles`. Can be used to manually check the results"
   ]
  },
  {
   "cell_type": "code",
   "execution_count": 5,
   "metadata": {},
   "outputs": [],
   "source": [
    "import pandas as pd\n",
    "from results_analyzer import ResultsAnalyzer\n",
    "\n",
    "results_analyzer = ResultsAnalyzer()"
   ]
  },
  {
   "cell_type": "markdown",
   "metadata": {},
   "source": [
    "Getting NDCG for all models:"
   ]
  },
  {
   "cell_type": "code",
   "execution_count": 6,
   "metadata": {},
   "outputs": [
    {
     "name": "stderr",
     "output_type": "stream",
     "text": [
      "[2020-07-17 14:23:51,333] [INFO] Calculating NDCG for each model (get_ndcg_for_all_models@results_analyzer.py:195)\n",
      "100%|██████████| 2/2 [00:06<00:00,  3.20s/it]\n"
     ]
    },
    {
     "data": {
      "text/plain": [
       "{'word': 0.6186564561748155, 'paragraph': 0.5865783418266132}"
      ]
     },
     "execution_count": 6,
     "metadata": {},
     "output_type": "execute_result"
    }
   ],
   "source": [
    "results_analyzer.get_ndcg_for_all_models()"
   ]
  },
  {
   "cell_type": "markdown",
   "metadata": {},
   "source": [
    "Getting MAP for all models:"
   ]
  },
  {
   "cell_type": "code",
   "execution_count": 3,
   "metadata": {},
   "outputs": [
    {
     "name": "stderr",
     "output_type": "stream",
     "text": [
      "[2020-07-17 09:29:23,583] [INFO] Calculating MAP for each model (get_map_for_all_models@results_analyzer.py:175)\n",
      "100%|██████████| 2/2 [00:06<00:00,  3.17s/it]\n"
     ]
    },
    {
     "data": {
      "text/plain": [
       "{'word': 0.4675, 'paragraph': 0.4297}"
      ]
     },
     "execution_count": 3,
     "metadata": {},
     "output_type": "execute_result"
    }
   ],
   "source": [
    "results_analyzer.get_map_for_all_models()"
   ]
  },
  {
   "cell_type": "markdown",
   "metadata": {},
   "source": [
    "Getting a sample of the results"
   ]
  },
  {
   "cell_type": "code",
   "execution_count": 4,
   "metadata": {},
   "outputs": [
    {
     "data": {
      "text/html": [
       "<div>\n",
       "<style scoped>\n",
       "    .dataframe tbody tr th:only-of-type {\n",
       "        vertical-align: middle;\n",
       "    }\n",
       "\n",
       "    .dataframe tbody tr th {\n",
       "        vertical-align: top;\n",
       "    }\n",
       "\n",
       "    .dataframe thead th {\n",
       "        text-align: right;\n",
       "    }\n",
       "</style>\n",
       "<table border=\"1\" class=\"dataframe\">\n",
       "  <thead>\n",
       "    <tr style=\"text-align: right;\">\n",
       "      <th></th>\n",
       "      <th>model</th>\n",
       "      <th>source_article</th>\n",
       "      <th>target_article</th>\n",
       "      <th>actual_click_rate</th>\n",
       "      <th>predicted_click_rate</th>\n",
       "    </tr>\n",
       "  </thead>\n",
       "  <tbody>\n",
       "    <tr>\n",
       "      <th>8415</th>\n",
       "      <td>word</td>\n",
       "      <td>European theatre of World War II</td>\n",
       "      <td>British occupation of the Faroe Islands</td>\n",
       "      <td>0.000000</td>\n",
       "      <td>0.014172</td>\n",
       "    </tr>\n",
       "    <tr>\n",
       "      <th>4187</th>\n",
       "      <td>word</td>\n",
       "      <td>Uzbekistan</td>\n",
       "      <td>Landlocked country</td>\n",
       "      <td>0.066685</td>\n",
       "      <td>0.011574</td>\n",
       "    </tr>\n",
       "    <tr>\n",
       "      <th>17638</th>\n",
       "      <td>word</td>\n",
       "      <td>Clitoris</td>\n",
       "      <td>Internal pudendal artery</td>\n",
       "      <td>0.006496</td>\n",
       "      <td>0.016869</td>\n",
       "    </tr>\n",
       "    <tr>\n",
       "      <th>601</th>\n",
       "      <td>paragraph</td>\n",
       "      <td>Deion Sanders</td>\n",
       "      <td>San Francisco 49ers</td>\n",
       "      <td>0.007007</td>\n",
       "      <td>0.015056</td>\n",
       "    </tr>\n",
       "    <tr>\n",
       "      <th>3402</th>\n",
       "      <td>paragraph</td>\n",
       "      <td>Brandon Flowers</td>\n",
       "      <td>Posttraumatic stress disorder</td>\n",
       "      <td>0.024914</td>\n",
       "      <td>0.021252</td>\n",
       "    </tr>\n",
       "    <tr>\n",
       "      <th>2112</th>\n",
       "      <td>paragraph</td>\n",
       "      <td>Deion Sanders</td>\n",
       "      <td>Carlton Fisk</td>\n",
       "      <td>0.008333</td>\n",
       "      <td>0.016277</td>\n",
       "    </tr>\n",
       "    <tr>\n",
       "      <th>3015</th>\n",
       "      <td>paragraph</td>\n",
       "      <td>Dishonored</td>\n",
       "      <td>Gregg Berger</td>\n",
       "      <td>0.000000</td>\n",
       "      <td>0.023677</td>\n",
       "    </tr>\n",
       "    <tr>\n",
       "      <th>16595</th>\n",
       "      <td>paragraph</td>\n",
       "      <td>Wayne's World (film)</td>\n",
       "      <td>Rob Lowe</td>\n",
       "      <td>0.040094</td>\n",
       "      <td>0.019406</td>\n",
       "    </tr>\n",
       "    <tr>\n",
       "      <th>17775</th>\n",
       "      <td>word</td>\n",
       "      <td>USS Constitution</td>\n",
       "      <td>Junk (ship)</td>\n",
       "      <td>0.000000</td>\n",
       "      <td>0.015668</td>\n",
       "    </tr>\n",
       "    <tr>\n",
       "      <th>15628</th>\n",
       "      <td>paragraph</td>\n",
       "      <td>Dean Koontz bibliography</td>\n",
       "      <td>Dragonfly (Koontz novel)</td>\n",
       "      <td>0.008052</td>\n",
       "      <td>0.017964</td>\n",
       "    </tr>\n",
       "  </tbody>\n",
       "</table>\n",
       "</div>"
      ],
      "text/plain": [
       "           model                    source_article  \\\n",
       "8415        word  European theatre of World War II   \n",
       "4187        word                        Uzbekistan   \n",
       "17638       word                          Clitoris   \n",
       "601    paragraph                     Deion Sanders   \n",
       "3402   paragraph                   Brandon Flowers   \n",
       "2112   paragraph                     Deion Sanders   \n",
       "3015   paragraph                        Dishonored   \n",
       "16595  paragraph              Wayne's World (film)   \n",
       "17775       word                  USS Constitution   \n",
       "15628  paragraph          Dean Koontz bibliography   \n",
       "\n",
       "                                target_article  actual_click_rate  \\\n",
       "8415   British occupation of the Faroe Islands           0.000000   \n",
       "4187                        Landlocked country           0.066685   \n",
       "17638                 Internal pudendal artery           0.006496   \n",
       "601                        San Francisco 49ers           0.007007   \n",
       "3402             Posttraumatic stress disorder           0.024914   \n",
       "2112                              Carlton Fisk           0.008333   \n",
       "3015                              Gregg Berger           0.000000   \n",
       "16595                                 Rob Lowe           0.040094   \n",
       "17775                              Junk (ship)           0.000000   \n",
       "15628                 Dragonfly (Koontz novel)           0.008052   \n",
       "\n",
       "       predicted_click_rate  \n",
       "8415               0.014172  \n",
       "4187               0.011574  \n",
       "17638              0.016869  \n",
       "601                0.015056  \n",
       "3402               0.021252  \n",
       "2112               0.016277  \n",
       "3015               0.023677  \n",
       "16595              0.019406  \n",
       "17775              0.015668  \n",
       "15628              0.017964  "
      ]
     },
     "execution_count": 4,
     "metadata": {},
     "output_type": "execute_result"
    }
   ],
   "source": [
    "results_analyzer.results.sample(n=10)"
   ]
  },
  {
   "cell_type": "markdown",
   "metadata": {},
   "source": [
    "Getting a sample of the source articles"
   ]
  },
  {
   "cell_type": "code",
   "execution_count": null,
   "metadata": {
    "pycharm": {
     "is_executing": false
    }
   },
   "outputs": [],
   "source": [
    "results_analyzer.get_sample_source_articles()"
   ]
  },
  {
   "cell_type": "markdown",
   "metadata": {},
   "source": [
    "Getting all the available models (models `paragraph`, `sentence` and `word` refer to Smash-RNN levels.)"
   ]
  },
  {
   "cell_type": "code",
   "execution_count": null,
   "metadata": {},
   "outputs": [],
   "source": [
    "results_analyzer.get_models()"
   ]
  },
  {
   "cell_type": "markdown",
   "metadata": {},
   "source": [
    "Getting the top 5 predictions for a `source_article` and a `model`"
   ]
  },
  {
   "cell_type": "code",
   "execution_count": null,
   "metadata": {},
   "outputs": [],
   "source": [
    "sample_source_article = \"Gerald Ford\"\n",
    "model = \"sentence\"\n",
    "\n",
    "results_analyzer.get_top_5_predicted_by_article_and_model(sample_source_article, model)"
   ]
  },
  {
   "cell_type": "markdown",
   "metadata": {},
   "source": [
    "Next steps:\n",
    "- Create some analytics to understand better the results for each model (I will need help here!)"
   ]
  }
 ],
 "metadata": {
  "kernelspec": {
   "display_name": "Python 3",
   "language": "python",
   "name": "python3"
  },
  "language_info": {
   "codemirror_mode": {
    "name": "ipython",
    "version": 3
   },
   "file_extension": ".py",
   "mimetype": "text/x-python",
   "name": "python",
   "nbconvert_exporter": "python",
   "pygments_lexer": "ipython3",
   "version": "3.7.7"
  }
 },
 "nbformat": 4,
 "nbformat_minor": 2
}
