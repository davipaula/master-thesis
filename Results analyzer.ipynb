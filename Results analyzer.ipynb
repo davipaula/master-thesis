{
 "cells": [
  {
   "cell_type": "markdown",
   "metadata": {},
   "source": [
    "This notebook allows to explore the results of predicting the `click_rate` from `source_article` to `target_article` using different models (Doc2Vec, Wikipedia2Vec, Smash-RNN Paragraph Level and Smash-RNN Word Level. Results for Smash-RNN Sentence Level are pending).\n",
    "\n",
    "The class `ResultsAnalyzer` encapsules the logic to compute the results. Main features:\n",
    "- `get_top_5_predicted_by_article_and_model(source_article, model)`: Gets the top 5 predictions for the `source_article`. The column `is_in_top_5` shows if the `target_article` is in the **actual** top 5 click rate.\n",
    "- `ResultsAnalyzer.results`: It is a Pandas Datafram containing the consolidated results\n",
    "- `get_sample_source_articles`: Samples 10 random `source_articles`. Can be used to manually check the results"
   ]
  },
  {
   "cell_type": "code",
   "execution_count": 1,
   "metadata": {},
   "outputs": [],
   "source": [
    "import pandas as pd\n",
    "from results_analyzer import ResultsAnalyzer\n",
    "\n",
    "results_analyzer = ResultsAnalyzer()"
   ]
  },
  {
   "cell_type": "markdown",
   "metadata": {},
   "source": [
    "Getting a sample of the results"
   ]
  },
  {
   "cell_type": "code",
   "execution_count": 2,
   "metadata": {},
   "outputs": [
    {
     "data": {
      "text/html": [
       "<div>\n",
       "<style scoped>\n",
       "    .dataframe tbody tr th:only-of-type {\n",
       "        vertical-align: middle;\n",
       "    }\n",
       "\n",
       "    .dataframe tbody tr th {\n",
       "        vertical-align: top;\n",
       "    }\n",
       "\n",
       "    .dataframe thead th {\n",
       "        text-align: right;\n",
       "    }\n",
       "</style>\n",
       "<table border=\"1\" class=\"dataframe\">\n",
       "  <thead>\n",
       "    <tr style=\"text-align: right;\">\n",
       "      <th></th>\n",
       "      <th>model</th>\n",
       "      <th>source_article</th>\n",
       "      <th>target_article</th>\n",
       "      <th>actual_click_rate</th>\n",
       "      <th>predicted_click_rate</th>\n",
       "    </tr>\n",
       "  </thead>\n",
       "  <tbody>\n",
       "    <tr>\n",
       "      <th>7508</th>\n",
       "      <td>word</td>\n",
       "      <td>John Bonham</td>\n",
       "      <td>Dave Grohl</td>\n",
       "      <td>0.013362</td>\n",
       "      <td>0.051661</td>\n",
       "    </tr>\n",
       "    <tr>\n",
       "      <th>7082</th>\n",
       "      <td>doc2vec</td>\n",
       "      <td>Paul Giamatti</td>\n",
       "      <td>Man on the Moon (film)</td>\n",
       "      <td>0.012309</td>\n",
       "      <td>0.030798</td>\n",
       "    </tr>\n",
       "    <tr>\n",
       "      <th>5601</th>\n",
       "      <td>paragraph</td>\n",
       "      <td>Gene Hackman</td>\n",
       "      <td>The Hunting Party (1971 film)</td>\n",
       "      <td>0.005673</td>\n",
       "      <td>0.052326</td>\n",
       "    </tr>\n",
       "    <tr>\n",
       "      <th>295</th>\n",
       "      <td>wikipedia2vec</td>\n",
       "      <td>Homer</td>\n",
       "      <td>Ionia</td>\n",
       "      <td>0.012511</td>\n",
       "      <td>0.016803</td>\n",
       "    </tr>\n",
       "    <tr>\n",
       "      <th>2446</th>\n",
       "      <td>wikipedia2vec</td>\n",
       "      <td>1995 UEFA Champions League Final</td>\n",
       "      <td>Finidi George</td>\n",
       "      <td>0.040576</td>\n",
       "      <td>0.057120</td>\n",
       "    </tr>\n",
       "    <tr>\n",
       "      <th>10466</th>\n",
       "      <td>wikipedia2vec</td>\n",
       "      <td>Barrymore family</td>\n",
       "      <td>Maurice Barrymore</td>\n",
       "      <td>0.043892</td>\n",
       "      <td>0.057120</td>\n",
       "    </tr>\n",
       "    <tr>\n",
       "      <th>1234</th>\n",
       "      <td>doc2vec</td>\n",
       "      <td>A Wizard of Earthsea</td>\n",
       "      <td>Earthsea (universe)</td>\n",
       "      <td>0.069578</td>\n",
       "      <td>0.038990</td>\n",
       "    </tr>\n",
       "    <tr>\n",
       "      <th>6671</th>\n",
       "      <td>wikipedia2vec</td>\n",
       "      <td>Serial killer</td>\n",
       "      <td>Robert Hansen</td>\n",
       "      <td>0.007918</td>\n",
       "      <td>0.027473</td>\n",
       "    </tr>\n",
       "    <tr>\n",
       "      <th>3741</th>\n",
       "      <td>wikipedia2vec</td>\n",
       "      <td>Carol Kane</td>\n",
       "      <td>Gene Wilder</td>\n",
       "      <td>0.009337</td>\n",
       "      <td>0.063328</td>\n",
       "    </tr>\n",
       "    <tr>\n",
       "      <th>1363</th>\n",
       "      <td>word</td>\n",
       "      <td>George S. Patton</td>\n",
       "      <td>Denazification</td>\n",
       "      <td>0.010140</td>\n",
       "      <td>0.023474</td>\n",
       "    </tr>\n",
       "  </tbody>\n",
       "</table>\n",
       "</div>"
      ],
      "text/plain": [
       "               model                    source_article  \\\n",
       "7508            word                       John Bonham   \n",
       "7082         doc2vec                     Paul Giamatti   \n",
       "5601       paragraph                      Gene Hackman   \n",
       "295    wikipedia2vec                             Homer   \n",
       "2446   wikipedia2vec  1995 UEFA Champions League Final   \n",
       "10466  wikipedia2vec                  Barrymore family   \n",
       "1234         doc2vec              A Wizard of Earthsea   \n",
       "6671   wikipedia2vec                     Serial killer   \n",
       "3741   wikipedia2vec                        Carol Kane   \n",
       "1363            word                  George S. Patton   \n",
       "\n",
       "                      target_article  actual_click_rate  predicted_click_rate  \n",
       "7508                      Dave Grohl           0.013362              0.051661  \n",
       "7082          Man on the Moon (film)           0.012309              0.030798  \n",
       "5601   The Hunting Party (1971 film)           0.005673              0.052326  \n",
       "295                            Ionia           0.012511              0.016803  \n",
       "2446                   Finidi George           0.040576              0.057120  \n",
       "10466              Maurice Barrymore           0.043892              0.057120  \n",
       "1234             Earthsea (universe)           0.069578              0.038990  \n",
       "6671                   Robert Hansen           0.007918              0.027473  \n",
       "3741                     Gene Wilder           0.009337              0.063328  \n",
       "1363                  Denazification           0.010140              0.023474  "
      ]
     },
     "execution_count": 2,
     "metadata": {},
     "output_type": "execute_result"
    }
   ],
   "source": [
    "results_analyzer.results.sample(n=10)"
   ]
  },
  {
   "cell_type": "markdown",
   "metadata": {},
   "source": [
    "Getting a sample of the source articles"
   ]
  },
  {
   "cell_type": "code",
   "execution_count": 3,
   "metadata": {},
   "outputs": [
    {
     "data": {
      "text/plain": [
       "2520                                  Willow Smith\n",
       "3421                 Band of Brothers (miniseries)\n",
       "2531        List of mobile phone brands by country\n",
       "6095                                 Marx Brothers\n",
       "955                              Arrow (TV series)\n",
       "5183                       Prabhu Deva filmography\n",
       "6918                 Caroline, Princess of Hanover\n",
       "1597    Sabrina the Teenage Witch (1996 TV series)\n",
       "3963                Transformers: Dark of the Moon\n",
       "4359                                  Tenochtitlan\n",
       "Name: source_article, dtype: object"
      ]
     },
     "execution_count": 3,
     "metadata": {},
     "output_type": "execute_result"
    }
   ],
   "source": [
    "results_analyzer.get_sample_source_articles()"
   ]
  },
  {
   "cell_type": "markdown",
   "metadata": {},
   "source": [
    "Getting all the available models (models `word` and `paragraph` refer to Smash-RNN. `sentence` level is pending)"
   ]
  },
  {
   "cell_type": "code",
   "execution_count": 5,
   "metadata": {},
   "outputs": [
    {
     "data": {
      "text/plain": [
       "array(['doc2vec', 'wikipedia2vec', 'word', 'paragraph'], dtype=object)"
      ]
     },
     "execution_count": 5,
     "metadata": {},
     "output_type": "execute_result"
    }
   ],
   "source": [
    "results_analyzer.get_models()"
   ]
  },
  {
   "cell_type": "markdown",
   "metadata": {},
   "source": [
    "Getting the top 5 predictions for a `source_article` and a `model`"
   ]
  },
  {
   "cell_type": "code",
   "execution_count": 7,
   "metadata": {},
   "outputs": [
    {
     "data": {
      "text/html": [
       "<div>\n",
       "<style scoped>\n",
       "    .dataframe tbody tr th:only-of-type {\n",
       "        vertical-align: middle;\n",
       "    }\n",
       "\n",
       "    .dataframe tbody tr th {\n",
       "        vertical-align: top;\n",
       "    }\n",
       "\n",
       "    .dataframe thead th {\n",
       "        text-align: right;\n",
       "    }\n",
       "</style>\n",
       "<table border=\"1\" class=\"dataframe\">\n",
       "  <thead>\n",
       "    <tr style=\"text-align: right;\">\n",
       "      <th></th>\n",
       "      <th>model</th>\n",
       "      <th>source_article</th>\n",
       "      <th>target_article</th>\n",
       "      <th>actual_click_rate</th>\n",
       "      <th>predicted_click_rate</th>\n",
       "      <th>is_in_top_5</th>\n",
       "    </tr>\n",
       "  </thead>\n",
       "  <tbody>\n",
       "    <tr>\n",
       "      <th>3902</th>\n",
       "      <td>paragraph</td>\n",
       "      <td>Shania Twain</td>\n",
       "      <td>Robert John \"Mutt\" Lange</td>\n",
       "      <td>0.312118</td>\n",
       "      <td>0.039250</td>\n",
       "      <td>True</td>\n",
       "    </tr>\n",
       "    <tr>\n",
       "      <th>4815</th>\n",
       "      <td>paragraph</td>\n",
       "      <td>Shania Twain</td>\n",
       "      <td>RIAA certification</td>\n",
       "      <td>0.002681</td>\n",
       "      <td>0.028766</td>\n",
       "      <td>False</td>\n",
       "    </tr>\n",
       "    <tr>\n",
       "      <th>3025</th>\n",
       "      <td>paragraph</td>\n",
       "      <td>Shania Twain</td>\n",
       "      <td>List of highest-certified music artists in the...</td>\n",
       "      <td>0.006869</td>\n",
       "      <td>0.028324</td>\n",
       "      <td>False</td>\n",
       "    </tr>\n",
       "    <tr>\n",
       "      <th>4442</th>\n",
       "      <td>paragraph</td>\n",
       "      <td>Shania Twain</td>\n",
       "      <td>Windsor, Ontario</td>\n",
       "      <td>0.010150</td>\n",
       "      <td>0.026451</td>\n",
       "      <td>True</td>\n",
       "    </tr>\n",
       "    <tr>\n",
       "      <th>370</th>\n",
       "      <td>paragraph</td>\n",
       "      <td>Shania Twain</td>\n",
       "      <td>Come On Over</td>\n",
       "      <td>0.045549</td>\n",
       "      <td>0.026083</td>\n",
       "      <td>True</td>\n",
       "    </tr>\n",
       "  </tbody>\n",
       "</table>\n",
       "</div>"
      ],
      "text/plain": [
       "          model source_article  \\\n",
       "3902  paragraph   Shania Twain   \n",
       "4815  paragraph   Shania Twain   \n",
       "3025  paragraph   Shania Twain   \n",
       "4442  paragraph   Shania Twain   \n",
       "370   paragraph   Shania Twain   \n",
       "\n",
       "                                         target_article  actual_click_rate  \\\n",
       "3902                           Robert John \"Mutt\" Lange           0.312118   \n",
       "4815                                 RIAA certification           0.002681   \n",
       "3025  List of highest-certified music artists in the...           0.006869   \n",
       "4442                                   Windsor, Ontario           0.010150   \n",
       "370                                        Come On Over           0.045549   \n",
       "\n",
       "      predicted_click_rate  is_in_top_5  \n",
       "3902              0.039250         True  \n",
       "4815              0.028766        False  \n",
       "3025              0.028324        False  \n",
       "4442              0.026451         True  \n",
       "370               0.026083         True  "
      ]
     },
     "execution_count": 7,
     "metadata": {},
     "output_type": "execute_result"
    }
   ],
   "source": [
    "sample_source_article = \"Shania Twain\"\n",
    "model = \"paragraph\"\n",
    "\n",
    "results_analyzer.get_top_5_predicted_by_article_and_model(sample_source_article, model)"
   ]
  },
  {
   "cell_type": "markdown",
   "metadata": {},
   "source": [
    "Next steps:\n",
    "- Include `sentence` level for `Smash-RNN`\n",
    "- Create some analytics to understand better the results for each model (I will need help here!)"
   ]
  },
  {
   "cell_type": "code",
   "execution_count": null,
   "metadata": {},
   "outputs": [],
   "source": []
  }
 ],
 "metadata": {
  "kernelspec": {
   "display_name": "Python 3",
   "language": "python",
   "name": "python3"
  },
  "language_info": {
   "codemirror_mode": {
    "name": "ipython",
    "version": 3
   },
   "file_extension": ".py",
   "mimetype": "text/x-python",
   "name": "python",
   "nbconvert_exporter": "python",
   "pygments_lexer": "ipython3",
   "version": "3.7.7"
  }
 },
 "nbformat": 4,
 "nbformat_minor": 2
}
