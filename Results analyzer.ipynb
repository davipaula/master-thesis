{
 "cells": [
  {
   "cell_type": "markdown",
   "metadata": {},
   "source": [
    "This notebook allows to explore the results of predicting the `click_rate` from `source_article` to `target_article` using different models (Doc2Vec, Wikipedia2Vec, Smash-RNN Paragraph Level, Smash-RNN Sentence Level and Smash-RNN Word Level).\n",
    "\n",
    "The class `ResultsAnalyzer` encapsules the logic to compute the results. Main features:\n",
    "- `get_top_5_predicted_by_article_and_model(source_article, model)`: Gets the top 5 predictions for the `source_article`. The column `is_in_top_5` shows if the `target_article` is in the **actual** top 5 click rate.\n",
    "- `ResultsAnalyzer.results`: It is a Pandas Datafram containing the consolidated results\n",
    "- `get_sample_source_articles`: Samples 10 random `source_articles`. Can be used to manually check the results"
   ]
  },
  {
   "cell_type": "code",
   "execution_count": 1,
   "metadata": {},
   "outputs": [],
   "source": [
    "import pandas as pd\n",
    "from results_analyzer import ResultsAnalyzer\n",
    "\n",
    "results_analyzer = ResultsAnalyzer()"
   ]
  },
  {
   "cell_type": "markdown",
   "metadata": {},
   "source": [
    "Getting a sample of the results"
   ]
  },
  {
   "cell_type": "code",
   "execution_count": 2,
   "metadata": {},
   "outputs": [
    {
     "data": {
      "text/html": [
       "<div>\n",
       "<style scoped>\n",
       "    .dataframe tbody tr th:only-of-type {\n",
       "        vertical-align: middle;\n",
       "    }\n",
       "\n",
       "    .dataframe tbody tr th {\n",
       "        vertical-align: top;\n",
       "    }\n",
       "\n",
       "    .dataframe thead th {\n",
       "        text-align: right;\n",
       "    }\n",
       "</style>\n",
       "<table border=\"1\" class=\"dataframe\">\n",
       "  <thead>\n",
       "    <tr style=\"text-align: right;\">\n",
       "      <th></th>\n",
       "      <th>model</th>\n",
       "      <th>source_article</th>\n",
       "      <th>target_article</th>\n",
       "      <th>actual_click_rate</th>\n",
       "      <th>predicted_click_rate</th>\n",
       "    </tr>\n",
       "  </thead>\n",
       "  <tbody>\n",
       "    <tr>\n",
       "      <th>5200</th>\n",
       "      <td>paragraph</td>\n",
       "      <td>Westworld</td>\n",
       "      <td>Westworld (disambiguation)</td>\n",
       "      <td>0.128287</td>\n",
       "      <td>0.051356</td>\n",
       "    </tr>\n",
       "    <tr>\n",
       "      <th>4099</th>\n",
       "      <td>paragraph</td>\n",
       "      <td>Brian Quinn (comedian)</td>\n",
       "      <td>Monsignor Farrell High School</td>\n",
       "      <td>0.020822</td>\n",
       "      <td>0.052720</td>\n",
       "    </tr>\n",
       "    <tr>\n",
       "      <th>5079</th>\n",
       "      <td>doc2vec</td>\n",
       "      <td>Audrey Hepburn</td>\n",
       "      <td>Charade (1963 film)</td>\n",
       "      <td>0.003548</td>\n",
       "      <td>0.036424</td>\n",
       "    </tr>\n",
       "    <tr>\n",
       "      <th>10402</th>\n",
       "      <td>paragraph</td>\n",
       "      <td>Alternative for Germany</td>\n",
       "      <td>Landtag of Thuringia</td>\n",
       "      <td>0.008003</td>\n",
       "      <td>0.041198</td>\n",
       "    </tr>\n",
       "    <tr>\n",
       "      <th>5155</th>\n",
       "      <td>doc2vec</td>\n",
       "      <td>Florence Pugh</td>\n",
       "      <td>The Little Drummer Girl</td>\n",
       "      <td>0.001353</td>\n",
       "      <td>0.038599</td>\n",
       "    </tr>\n",
       "    <tr>\n",
       "      <th>2078</th>\n",
       "      <td>wikipedia2vec</td>\n",
       "      <td>The Aeronauts (film)</td>\n",
       "      <td>Anne Reid</td>\n",
       "      <td>0.004713</td>\n",
       "      <td>0.057120</td>\n",
       "    </tr>\n",
       "    <tr>\n",
       "      <th>5520</th>\n",
       "      <td>sentence</td>\n",
       "      <td>Schutzstaffel</td>\n",
       "      <td>Majdanek concentration camp</td>\n",
       "      <td>0.006200</td>\n",
       "      <td>0.016807</td>\n",
       "    </tr>\n",
       "    <tr>\n",
       "      <th>9174</th>\n",
       "      <td>sentence</td>\n",
       "      <td>List of television series based on DC Comics p...</td>\n",
       "      <td>The New Batman Adventures</td>\n",
       "      <td>0.005354</td>\n",
       "      <td>0.023697</td>\n",
       "    </tr>\n",
       "    <tr>\n",
       "      <th>2001</th>\n",
       "      <td>doc2vec</td>\n",
       "      <td>Second Chechen War</td>\n",
       "      <td>Shamil Basayev</td>\n",
       "      <td>0.010172</td>\n",
       "      <td>0.040050</td>\n",
       "    </tr>\n",
       "    <tr>\n",
       "      <th>4522</th>\n",
       "      <td>word</td>\n",
       "      <td>Bombing of Tokyo (10 March 1945)</td>\n",
       "      <td>Treaty of San Francisco</td>\n",
       "      <td>0.005189</td>\n",
       "      <td>0.023185</td>\n",
       "    </tr>\n",
       "  </tbody>\n",
       "</table>\n",
       "</div>"
      ],
      "text/plain": [
       "               model                                     source_article  \\\n",
       "5200       paragraph                                          Westworld   \n",
       "4099       paragraph                             Brian Quinn (comedian)   \n",
       "5079         doc2vec                                     Audrey Hepburn   \n",
       "10402      paragraph                            Alternative for Germany   \n",
       "5155         doc2vec                                      Florence Pugh   \n",
       "2078   wikipedia2vec                               The Aeronauts (film)   \n",
       "5520        sentence                                      Schutzstaffel   \n",
       "9174        sentence  List of television series based on DC Comics p...   \n",
       "2001         doc2vec                                 Second Chechen War   \n",
       "4522            word                   Bombing of Tokyo (10 March 1945)   \n",
       "\n",
       "                      target_article  actual_click_rate  predicted_click_rate  \n",
       "5200      Westworld (disambiguation)           0.128287              0.051356  \n",
       "4099   Monsignor Farrell High School           0.020822              0.052720  \n",
       "5079             Charade (1963 film)           0.003548              0.036424  \n",
       "10402           Landtag of Thuringia           0.008003              0.041198  \n",
       "5155         The Little Drummer Girl           0.001353              0.038599  \n",
       "2078                       Anne Reid           0.004713              0.057120  \n",
       "5520     Majdanek concentration camp           0.006200              0.016807  \n",
       "9174       The New Batman Adventures           0.005354              0.023697  \n",
       "2001                  Shamil Basayev           0.010172              0.040050  \n",
       "4522         Treaty of San Francisco           0.005189              0.023185  "
      ]
     },
     "execution_count": 2,
     "metadata": {},
     "output_type": "execute_result"
    }
   ],
   "source": [
    "results_analyzer.results.sample(n=10)"
   ]
  },
  {
   "cell_type": "markdown",
   "metadata": {},
   "source": [
    "Getting a sample of the source articles"
   ]
  },
  {
   "cell_type": "code",
   "execution_count": 3,
   "metadata": {},
   "outputs": [
    {
     "data": {
      "text/plain": [
       "3302                                  The Big Bang Theory\n",
       "9359                                         Joe Coulombe\n",
       "6369                                          Mexico City\n",
       "5046    United States Public Health Service Commission...\n",
       "1267                                      American Hustle\n",
       "5539             Ned's Declassified School Survival Guide\n",
       "8336                        Rainier III, Prince of Monaco\n",
       "7171                                           Just Mercy\n",
       "8078                       The Goldbergs (2013 TV series)\n",
       "1431                                            T-54/T-55\n",
       "Name: source_article, dtype: object"
      ]
     },
     "execution_count": 3,
     "metadata": {},
     "output_type": "execute_result"
    }
   ],
   "source": [
    "results_analyzer.get_sample_source_articles()"
   ]
  },
  {
   "cell_type": "markdown",
   "metadata": {},
   "source": [
    "Getting all the available models (models `paragraph`, `sentence` and `word` refer to Smash-RNN levels.)"
   ]
  },
  {
   "cell_type": "code",
   "execution_count": 8,
   "metadata": {},
   "outputs": [
    {
     "data": {
      "text/plain": [
       "array(['doc2vec', 'wikipedia2vec', 'word', 'sentence', 'paragraph'],\n",
       "      dtype=object)"
      ]
     },
     "execution_count": 8,
     "metadata": {},
     "output_type": "execute_result"
    }
   ],
   "source": [
    "results_analyzer.get_models()"
   ]
  },
  {
   "cell_type": "markdown",
   "metadata": {},
   "source": [
    "Getting the top 5 predictions for a `source_article` and a `model`"
   ]
  },
  {
   "cell_type": "code",
   "execution_count": 7,
   "metadata": {},
   "outputs": [
    {
     "data": {
      "text/html": [
       "<div>\n",
       "<style scoped>\n",
       "    .dataframe tbody tr th:only-of-type {\n",
       "        vertical-align: middle;\n",
       "    }\n",
       "\n",
       "    .dataframe tbody tr th {\n",
       "        vertical-align: top;\n",
       "    }\n",
       "\n",
       "    .dataframe thead th {\n",
       "        text-align: right;\n",
       "    }\n",
       "</style>\n",
       "<table border=\"1\" class=\"dataframe\">\n",
       "  <thead>\n",
       "    <tr style=\"text-align: right;\">\n",
       "      <th></th>\n",
       "      <th>model</th>\n",
       "      <th>source_article</th>\n",
       "      <th>target_article</th>\n",
       "      <th>actual_click_rate</th>\n",
       "      <th>predicted_click_rate</th>\n",
       "      <th>is_in_top_5</th>\n",
       "    </tr>\n",
       "  </thead>\n",
       "  <tbody>\n",
       "    <tr>\n",
       "      <th>9100</th>\n",
       "      <td>sentence</td>\n",
       "      <td>Gerald Ford</td>\n",
       "      <td>Twenty-fifth Amendment to the United States Co...</td>\n",
       "      <td>0.014005</td>\n",
       "      <td>0.034134</td>\n",
       "      <td>True</td>\n",
       "    </tr>\n",
       "    <tr>\n",
       "      <th>9991</th>\n",
       "      <td>sentence</td>\n",
       "      <td>Gerald Ford</td>\n",
       "      <td>Pardon of Richard Nixon</td>\n",
       "      <td>0.004515</td>\n",
       "      <td>0.031816</td>\n",
       "      <td>True</td>\n",
       "    </tr>\n",
       "    <tr>\n",
       "      <th>7565</th>\n",
       "      <td>sentence</td>\n",
       "      <td>Gerald Ford</td>\n",
       "      <td>Détente</td>\n",
       "      <td>0.003849</td>\n",
       "      <td>0.031134</td>\n",
       "      <td>False</td>\n",
       "    </tr>\n",
       "    <tr>\n",
       "      <th>4379</th>\n",
       "      <td>sentence</td>\n",
       "      <td>Gerald Ford</td>\n",
       "      <td>Betty Ford</td>\n",
       "      <td>0.044354</td>\n",
       "      <td>0.029983</td>\n",
       "      <td>True</td>\n",
       "    </tr>\n",
       "    <tr>\n",
       "      <th>6301</th>\n",
       "      <td>sentence</td>\n",
       "      <td>Gerald Ford</td>\n",
       "      <td>Bob Dole</td>\n",
       "      <td>0.001809</td>\n",
       "      <td>0.028259</td>\n",
       "      <td>False</td>\n",
       "    </tr>\n",
       "  </tbody>\n",
       "</table>\n",
       "</div>"
      ],
      "text/plain": [
       "         model source_article  \\\n",
       "9100  sentence    Gerald Ford   \n",
       "9991  sentence    Gerald Ford   \n",
       "7565  sentence    Gerald Ford   \n",
       "4379  sentence    Gerald Ford   \n",
       "6301  sentence    Gerald Ford   \n",
       "\n",
       "                                         target_article  actual_click_rate  \\\n",
       "9100  Twenty-fifth Amendment to the United States Co...           0.014005   \n",
       "9991                            Pardon of Richard Nixon           0.004515   \n",
       "7565                                            Détente           0.003849   \n",
       "4379                                         Betty Ford           0.044354   \n",
       "6301                                           Bob Dole           0.001809   \n",
       "\n",
       "      predicted_click_rate  is_in_top_5  \n",
       "9100              0.034134         True  \n",
       "9991              0.031816         True  \n",
       "7565              0.031134        False  \n",
       "4379              0.029983         True  \n",
       "6301              0.028259        False  "
      ]
     },
     "execution_count": 7,
     "metadata": {},
     "output_type": "execute_result"
    }
   ],
   "source": [
    "sample_source_article = \"Gerald Ford\"\n",
    "model = \"sentence\"\n",
    "\n",
    "results_analyzer.get_top_5_predicted_by_article_and_model(sample_source_article, model)"
   ]
  },
  {
   "cell_type": "markdown",
   "metadata": {},
   "source": [
    "Next steps:\n",
    "- Create some analytics to understand better the results for each model (I will need help here!)"
   ]
  },
  {
   "cell_type": "code",
   "execution_count": null,
   "metadata": {},
   "outputs": [],
   "source": []
  }
 ],
 "metadata": {
  "kernelspec": {
   "display_name": "Python 3",
   "language": "python",
   "name": "python3"
  },
  "language_info": {
   "codemirror_mode": {
    "name": "ipython",
    "version": 3
   },
   "file_extension": ".py",
   "mimetype": "text/x-python",
   "name": "python",
   "nbconvert_exporter": "python",
   "pygments_lexer": "ipython3",
   "version": "3.7.7"
  }
 },
 "nbformat": 4,
 "nbformat_minor": 2
}
