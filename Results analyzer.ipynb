{
 "cells": [
  {
   "cell_type": "markdown",
   "metadata": {},
   "source": [
    "This notebook allows to explore the results of predicting the `click_rate` from `source_article` to `target_article` using different models (Doc2Vec, Wikipedia2Vec, Smash-RNN Paragraph Level, Smash-RNN Sentence Level and Smash-RNN Word Level).\n",
    "\n",
    "The class `ResultsAnalyzer` encapsules the logic to compute the results. Main features:\n",
    "- `get_ndcg_for_all_models`: Calculates the Normalized Discounted Cumulative Gain for each model\n",
    "- `get_map_for_all_models`: Calculates the Mean Average Precision for each model\n",
    "- `get_top_5_predicted_by_article_and_model(source_article, model)`: Gets the top 5 predictions for the `source_article`. The column `is_in_top_5` shows if the `target_article` is in the **actual** top 5 click rate.\n",
    "- `ResultsAnalyzer.results`: It is a Pandas Datafram containing the consolidated results\n",
    "- `get_sample_source_articles`: Samples 10 random `source_articles`. Can be used to manually check the results"
   ]
  },
  {
   "cell_type": "code",
   "execution_count": 1,
   "metadata": {},
   "outputs": [],
   "source": [
    "import pandas as pd\n",
    "from results_analyzer import ResultsAnalyzer\n",
    "\n",
    "results_analyzer = ResultsAnalyzer()"
   ]
  },
  {
   "cell_type": "markdown",
   "metadata": {},
   "source": [
    "Getting NDCG for all models:"
   ]
  },
  {
   "cell_type": "code",
   "execution_count": 2,
   "metadata": {},
   "outputs": [
    {
     "name": "stderr",
     "output_type": "stream",
     "text": [
      "[2020-09-26 15:19:19,266] [INFO] Getting features from DB (calculate_statistics_per_group@results_analyzer.py:342)\n",
      "[2020-09-26 15:19:34,708] [INFO] Getting predictions by model (calculate_statistics_per_group@results_analyzer.py:358)\n",
      "[2020-09-26 15:19:34,740] [INFO] Aggregating predictions for each model (get_predictions_by_model@results_analyzer.py:266)\n",
      "100%|██████████| 29/29 [00:21<00:00,  1.33it/s]\n",
      "[2020-09-26 15:19:56,571] [INFO] Calculating results by model (calculate_statistics_per_group@results_analyzer.py:395)\n",
      "100%|██████████| 474/474 [00:06<00:00, 68.67it/s]\n",
      "100%|██████████| 474/474 [00:06<00:00, 68.71it/s]\n",
      "100%|██████████| 474/474 [00:06<00:00, 69.01it/s]\n",
      "100%|██████████| 474/474 [00:06<00:00, 68.60it/s]\n",
      "100%|██████████| 474/474 [00:06<00:00, 68.85it/s]\n",
      "100%|██████████| 474/474 [00:06<00:00, 68.47it/s]\n",
      "100%|██████████| 474/474 [00:06<00:00, 68.45it/s]\n",
      "100%|██████████| 474/474 [00:06<00:00, 68.92it/s]\n",
      "100%|██████████| 474/474 [00:06<00:00, 68.93it/s]\n",
      "100%|██████████| 474/474 [00:06<00:00, 68.98it/s]\n",
      "100%|██████████| 474/474 [00:07<00:00, 67.50it/s]\n",
      "100%|██████████| 474/474 [00:06<00:00, 68.00it/s]\n",
      "100%|██████████| 474/474 [00:06<00:00, 68.44it/s]\n",
      "100%|██████████| 474/474 [00:06<00:00, 68.48it/s]\n"
     ]
    }
   ],
   "source": [
    "results = results_analyzer.calculate_statistics_per_group()"
   ]
  },
  {
   "cell_type": "code",
   "execution_count": 10,
   "metadata": {},
   "outputs": [
    {
     "data": {
      "text/html": [
       "<div>\n",
       "<style scoped>\n",
       "    .dataframe tbody tr th:only-of-type {\n",
       "        vertical-align: middle;\n",
       "    }\n",
       "\n",
       "    .dataframe tbody tr th {\n",
       "        vertical-align: top;\n",
       "    }\n",
       "\n",
       "    .dataframe thead th {\n",
       "        text-align: right;\n",
       "    }\n",
       "</style>\n",
       "<table border=\"1\" class=\"dataframe\">\n",
       "  <thead>\n",
       "    <tr style=\"text-align: right;\">\n",
       "      <th></th>\n",
       "      <th>paragraph_level_50d_concat_v2_introduction_only</th>\n",
       "      <th>paragraph_level_50d_concat_introduction_only</th>\n",
       "      <th>paragraph_level_200d_introduction_only</th>\n",
       "    </tr>\n",
       "  </thead>\n",
       "  <tbody>\n",
       "    <tr>\n",
       "      <th>count</th>\n",
       "      <td>474.000000</td>\n",
       "      <td>474.000000</td>\n",
       "      <td>474.000000</td>\n",
       "    </tr>\n",
       "    <tr>\n",
       "      <th>mean</th>\n",
       "      <td>0.575693</td>\n",
       "      <td>0.584052</td>\n",
       "      <td>0.636067</td>\n",
       "    </tr>\n",
       "    <tr>\n",
       "      <th>std</th>\n",
       "      <td>0.341723</td>\n",
       "      <td>0.344866</td>\n",
       "      <td>0.345378</td>\n",
       "    </tr>\n",
       "    <tr>\n",
       "      <th>min</th>\n",
       "      <td>0.000000</td>\n",
       "      <td>0.000000</td>\n",
       "      <td>0.000000</td>\n",
       "    </tr>\n",
       "    <tr>\n",
       "      <th>25%</th>\n",
       "      <td>0.386853</td>\n",
       "      <td>0.386853</td>\n",
       "      <td>0.430677</td>\n",
       "    </tr>\n",
       "    <tr>\n",
       "      <th>50%</th>\n",
       "      <td>0.624051</td>\n",
       "      <td>0.621170</td>\n",
       "      <td>0.679731</td>\n",
       "    </tr>\n",
       "    <tr>\n",
       "      <th>75%</th>\n",
       "      <td>0.885460</td>\n",
       "      <td>0.906025</td>\n",
       "      <td>0.955830</td>\n",
       "    </tr>\n",
       "    <tr>\n",
       "      <th>max</th>\n",
       "      <td>1.000000</td>\n",
       "      <td>1.000000</td>\n",
       "      <td>1.000000</td>\n",
       "    </tr>\n",
       "  </tbody>\n",
       "</table>\n",
       "</div>"
      ],
      "text/plain": [
       "       paragraph_level_50d_concat_v2_introduction_only  \\\n",
       "count                                       474.000000   \n",
       "mean                                          0.575693   \n",
       "std                                           0.341723   \n",
       "min                                           0.000000   \n",
       "25%                                           0.386853   \n",
       "50%                                           0.624051   \n",
       "75%                                           0.885460   \n",
       "max                                           1.000000   \n",
       "\n",
       "       paragraph_level_50d_concat_introduction_only  \\\n",
       "count                                    474.000000   \n",
       "mean                                       0.584052   \n",
       "std                                        0.344866   \n",
       "min                                        0.000000   \n",
       "25%                                        0.386853   \n",
       "50%                                        0.621170   \n",
       "75%                                        0.906025   \n",
       "max                                        1.000000   \n",
       "\n",
       "       paragraph_level_200d_introduction_only  \n",
       "count                              474.000000  \n",
       "mean                                 0.636067  \n",
       "std                                  0.345378  \n",
       "min                                  0.000000  \n",
       "25%                                  0.430677  \n",
       "50%                                  0.679731  \n",
       "75%                                  0.955830  \n",
       "max                                  1.000000  "
      ]
     },
     "execution_count": 10,
     "metadata": {},
     "output_type": "execute_result"
    }
   ],
   "source": [
    "models = [\"paragraph_level_50d_concat_v2_introduction_only\", \"paragraph_level_50d_concat_introduction_only\", \"paragraph_level_200d_introduction_only\"]\n",
    "\n",
    "results[models].describe()"
   ]
  },
  {
   "cell_type": "code",
   "execution_count": null,
   "metadata": {},
   "outputs": [],
   "source": [
    "import matplotlib\n",
    "import matplotlib.pyplot as plt\n",
    "%matplotlib inline\n",
    "import pandas as pd\n",
    "import numpy as np\n",
    "import seaborn as sns\n",
    "\n",
    "WORD_COUNT_BIN = \"word_count_bin\"\n",
    "WORD_COUNT_COLUMN = \"word_count\"\n",
    "OUT_LINKS_BIN = \"out_links_bin\"\n",
    "OUT_LINKS_COLUMN= \"out_links_count\"\n",
    "IN_LINKS_BIN = \"in_links_bin\"\n",
    "IN_LINKS_COLUMN = \"in_links_count_column\"\n",
    "PARAGRAPH_COUNT_COLUMN = \"paragraph_count\"\n",
    "PARAGRAPH_COUNT_BIN = \"paragraph_count_bin\"\n",
    "SENTENCE_COUNT_COLUMN = \"sentence_count\"\n",
    "SENTENCE_COUNT_BIN = \"sentence_count_bin\"\n",
    "MODEL_COLUMN = \"model\"\n",
    "\n",
    "ALL_FEATURES = [WORD_COUNT_COLUMN, OUT_LINKS_COLUMN, IN_LINKS_COLUMN]\n",
    "\n",
    "selected_models = [\n",
    "            \"doc2vec_no_sigmoid\",\n",
    "            \"wikipedia2vec_no_sigmoid\",\n",
    "            \"word_no_sigmoid\",\n",
    "            \"sentence_no_sigmoid\",\n",
    "            \"paragraph_no_sigmoid\",\n",
    "        ]\n",
    "\n",
    "clean_model_names = {\n",
    "    \"doc2vec_no_sigmoid\": \"Doc2Vec\",\n",
    "    \"paragraph_no_sigmoid\": \"SMASH RNN (P + S + W)\",\n",
    "    \"sentence_no_sigmoid\": \"SMASH RNN (P + S)\",\n",
    "    \"wikipedia2vec_no_sigmoid\": \"Wikipedia2Vec\",\n",
    "    \"word_no_sigmoid\": \"SMASH RNN (P)\",\n",
    "}\n",
    "\n",
    "SMASH_HATCH = '//'\n",
    "DOC2VEC_HATCH = '' \n",
    "WIKIPEDIA2VEC_HATCH = ''\n",
    "\n",
    "system_styles = {\n",
    "    'doc2vec_no_sigmoid': dict(color='lightcoral', hatch=DOC2VEC_HATCH),\n",
    "        \n",
    "    'wikipedia2vec_no_sigmoid': dict(color='yellow', hatch=WIKIPEDIA2VEC_HATCH),\n",
    "    \n",
    "    'paragraph_no_sigmoid': dict(color='blue', hatch=SMASH_HATCH),\n",
    "    'sentence_no_sigmoid': dict(color='green', hatch=SMASH_HATCH),\n",
    "    'word_no_sigmoid': dict(color='red', hatch=SMASH_HATCH),\n",
    "}\n",
    "\n",
    "SMALL_SIZE = 10\n",
    "MEDIUM_SIZE = 12\n",
    "BIGGER_SIZE = 14\n",
    "\n",
    "plt.rc('font', size=SMALL_SIZE)          # controls default text sizes\n",
    "plt.rc('axes', titlesize=SMALL_SIZE)     # fontsize of the axes title\n",
    "plt.rc('axes', labelsize=MEDIUM_SIZE)    # fontsize of the x and y labels\n",
    "plt.rc('xtick', labelsize=SMALL_SIZE+1)    # fontsize of the tick labels\n",
    "plt.rc('ytick', labelsize=SMALL_SIZE+1)    # fontsize of the tick labels\n",
    "plt.rc('legend', fontsize=SMALL_SIZE+1)    # legend fontsize\n",
    "plt.rc('figure', titlesize=BIGGER_SIZE)  # fontsize of the figure title\n",
    "\n",
    "plt.rc('pdf', fonttype=42)\n",
    "plt.rc('ps', fonttype=42)\n",
    "\n",
    "plt.rc('text', usetex=False)\n",
    "plt.rc('font', family='serif')\n",
    "\n",
    "def get_performance_figure(\n",
    "    results,\n",
    "    models,\n",
    "    feature_column,\n",
    "    x_label,\n",
    "    y_label=None,\n",
    "    figsize=(13, 6),\n",
    "    legend_columns_count=3,\n",
    "    buckets_count=5,\n",
    "    save_file_path=None,\n",
    "):\n",
    "    bin_column = f\"{feature_column}_bin\"\n",
    "    bins = pd.qcut(results[feature_column], q=buckets_count)\n",
    "\n",
    "    results[bin_column] = bins\n",
    "    result_by_model = results.groupby([bin_column]).mean()[models]\n",
    "\n",
    "    fig = plt.figure(figsize=figsize)\n",
    "\n",
    "    ax = result_by_model.plot(\n",
    "        kind=\"bar\", ax=fig.gca(), rot=0, width=0.7, alpha=0.9, edgecolor=[\"black\"],\n",
    "    )\n",
    "\n",
    "    box = ax.get_position()\n",
    "    ax.set_position([box.x0, box.y0 + box.height * 0.25, box.width, box.height * 0.75])\n",
    "\n",
    "    # Formats the bars\n",
    "    for container in ax.containers:\n",
    "        container_system = container.get_label()\n",
    "        \n",
    "        style = system_styles[container_system]\n",
    "        for patch in container.patches:\n",
    "            if 'color' in style:\n",
    "                patch.set_color(style['color'])\n",
    "            if 'hatch' in style:\n",
    "                patch.set_hatch(style['hatch'])\n",
    "            if 'linewidth' in style:\n",
    "                patch.set_linewidth(style['linewidth'])\n",
    "            if 'edgecolor' in style:\n",
    "                patch.set_edgecolor(style['edgecolor'])\n",
    "            else:\n",
    "                patch.set_edgecolor('black')\n",
    "\n",
    "    \n",
    "    model_names = [clean_model_names[model] for model in selected_models]\n",
    "\n",
    "    ax.legend(\n",
    "        model_names,\n",
    "        ncol=legend_columns_count,\n",
    "        loc=\"upper center\",\n",
    "        fancybox=True,\n",
    "        shadow=False,\n",
    "        bbox_to_anchor=(0.5, 1.2),\n",
    "    )\n",
    "\n",
    "    # Formats the x label as \"(lower, upper]\"\n",
    "    ax.set_xticklabels(\n",
    "        [f\"({int(i.left)}, {int(i.right)}]\" for i in bins.cat.categories]\n",
    "    )\n",
    "\n",
    "    y_label = \"NDCG@k (k=5)\"\n",
    "    ax.set_xlabel(x_label % len(result_by_model))\n",
    "    ax.set_ylabel(y_label)\n",
    "    \n",
    "    if save_file_path:\n",
    "        pdf_dpi = 300\n",
    "\n",
    "        logger.info(f\"Saved to {save_file_path}\")\n",
    "        plt.savefig(save_file_path, bbox_inches=\"tight\", dpi=pdf_dpi)\n",
    "\n",
    "    plt.show()"
   ]
  },
  {
   "cell_type": "code",
   "execution_count": null,
   "metadata": {},
   "outputs": [],
   "source": [
    "get_performance_figure(results, selected_models, WORD_COUNT_COLUMN, \"Text length as word count (%s equal-sized buckets)\")\n",
    "get_performance_figure(results, selected_models, SENTENCE_COUNT_COLUMN, \"NNText length as word count (%s equal-sized buckets)\")\n",
    "get_performance_figure(results, selected_models, PARAGRAPH_COUNT_COLUMN, \"NMNText length as word count (%s equal-sized buckets)\")\n",
    "\n",
    "\n",
    "# results"
   ]
  },
  {
   "cell_type": "code",
   "execution_count": null,
   "metadata": {},
   "outputs": [],
   "source": []
  },
  {
   "cell_type": "code",
   "execution_count": null,
   "metadata": {},
   "outputs": [],
   "source": [
    "models = [\"wikipedia2vec_no_sigmoid\", \"word_no_sigmoid\"]\n",
    "get_performance_figure(ndcg_by_model_and_article, models, WORD_COUNT_COLUMN, 'Text length as word count (%s equal-sized buckets)')"
   ]
  },
  {
   "cell_type": "code",
   "execution_count": null,
   "metadata": {},
   "outputs": [],
   "source": [
    "results_analyzer.get_map_for_all_models()"
   ]
  },
  {
   "cell_type": "markdown",
   "metadata": {},
   "source": [
    "Getting a sample of the results"
   ]
  },
  {
   "cell_type": "code",
   "execution_count": null,
   "metadata": {},
   "outputs": [],
   "source": [
    "results_analyzer.results.sample(n=10)"
   ]
  },
  {
   "cell_type": "markdown",
   "metadata": {},
   "source": [
    "Getting a sample of the source articles"
   ]
  },
  {
   "cell_type": "code",
   "execution_count": null,
   "metadata": {
    "pycharm": {
     "is_executing": false
    }
   },
   "outputs": [],
   "source": [
    "results_analyzer.get_sample_source_articles()"
   ]
  },
  {
   "cell_type": "markdown",
   "metadata": {},
   "source": [
    "Getting all the available models (models `paragraph`, `sentence` and `word` refer to Smash-RNN levels.)"
   ]
  },
  {
   "cell_type": "code",
   "execution_count": null,
   "metadata": {},
   "outputs": [],
   "source": [
    "results_analyzer.get_models()"
   ]
  },
  {
   "cell_type": "markdown",
   "metadata": {},
   "source": [
    "Getting the top 5 predictions for a `source_article` and a `model`"
   ]
  },
  {
   "cell_type": "code",
   "execution_count": null,
   "metadata": {},
   "outputs": [],
   "source": [
    "sample_source_article = \"Quantum mechanics\"\n",
    "model = \"wikipedia2vec\"\n",
    "\n",
    "results_analyzer.get_top_10_predicted_by_article_and_model(sample_source_article)"
   ]
  },
  {
   "cell_type": "markdown",
   "metadata": {},
   "source": [
    "Next steps:\n",
    "- Create some analytics to understand better the results for each model (I will need help here!)"
   ]
  }
 ],
 "metadata": {
  "kernelspec": {
   "display_name": "Python 3.7.4 64-bit ('thesis-davi': conda)",
   "language": "python",
   "name": "python37464bitthesisdaviconda173753154baf4ea5aebc1bb5b4a5349a"
  },
  "language_info": {
   "codemirror_mode": {
    "name": "ipython",
    "version": 3
   },
   "file_extension": ".py",
   "mimetype": "text/x-python",
   "name": "python",
   "nbconvert_exporter": "python",
   "pygments_lexer": "ipython3",
   "version": "3.7.4"
  }
 },
 "nbformat": 4,
 "nbformat_minor": 2
}
