{
 "cells": [
  {
   "cell_type": "markdown",
   "metadata": {},
   "source": [
    "This notebook allows to explore the results of predicting the `click_rate` from `source_article` to `target_article` using different models (Doc2Vec, Wikipedia2Vec, Smash-RNN Paragraph Level, Smash-RNN Sentence Level and Smash-RNN Word Level).\n",
    "\n",
    "The class `ResultsAnalyzer` encapsules the logic to compute the results. Main features:\n",
    "- `get_ndcg_for_all_models`: Calculates the Normalized Discounted Cumulative Gain for each model\n",
    "- `get_map_for_all_models`: Calculates the Mean Average Precision for each model\n",
    "- `get_top_5_predicted_by_article_and_model(source_article, model)`: Gets the top 5 predictions for the `source_article`. The column `is_in_top_5` shows if the `target_article` is in the **actual** top 5 click rate.\n",
    "- `ResultsAnalyzer.results`: It is a Pandas Datafram containing the consolidated results\n",
    "- `get_sample_source_articles`: Samples 10 random `source_articles`. Can be used to manually check the results"
   ]
  },
  {
   "cell_type": "code",
   "execution_count": 1,
   "metadata": {},
   "outputs": [],
   "source": [
    "import pandas as pd\n",
    "from results_analyzer import ResultsAnalyzer\n",
    "\n",
    "results_analyzer = ResultsAnalyzer()"
   ]
  },
  {
   "cell_type": "markdown",
   "metadata": {},
   "source": [
    "Getting NDCG for all models:"
   ]
  },
  {
   "cell_type": "code",
   "execution_count": 2,
   "metadata": {},
   "outputs": [
    {
     "name": "stderr",
     "output_type": "stream",
     "text": [
      "[2020-08-10 08:15:39,904] [INFO] Getting features from DB (calculate_statistics_per_group@results_analyzer.py:365)\n",
      "[2020-08-10 08:15:55,715] [INFO] Getting predictions by model (calculate_statistics_per_group@results_analyzer.py:379)\n",
      "[2020-08-10 08:15:55,730] [INFO] Calculating predictions for each model (get_predictions_by_model@results_analyzer.py:289)\n",
      "100%|██████████| 18/18 [00:19<00:00,  1.09s/it]\n",
      "[2020-08-10 08:16:15,335] [INFO] Calculating results by model (calculate_statistics_per_group@results_analyzer.py:399)\n",
      "100%|██████████| 474/474 [00:05<00:00, 91.09it/s]\n",
      "100%|██████████| 474/474 [00:05<00:00, 91.66it/s]\n",
      "100%|██████████| 474/474 [00:05<00:00, 91.05it/s]\n",
      "100%|██████████| 474/474 [00:05<00:00, 91.67it/s]\n",
      "100%|██████████| 474/474 [00:05<00:00, 91.49it/s]\n",
      "100%|██████████| 474/474 [00:05<00:00, 91.62it/s]\n",
      "100%|██████████| 474/474 [00:05<00:00, 92.35it/s]\n"
     ]
    }
   ],
   "source": [
    "results = results_analyzer.calculate_statistics_per_group()"
   ]
  },
  {
   "cell_type": "code",
   "execution_count": null,
   "metadata": {},
   "outputs": [],
   "source": []
  },
  {
   "cell_type": "code",
   "execution_count": null,
   "metadata": {},
   "outputs": [],
   "source": []
  },
  {
   "cell_type": "code",
   "execution_count": 45,
   "metadata": {},
   "outputs": [],
   "source": [
    "import matplotlib\n",
    "import matplotlib.pyplot as plt\n",
    "%matplotlib inline\n",
    "import pandas as pd\n",
    "import numpy as np\n",
    "import seaborn as sns\n",
    "\n",
    "WORD_COUNT_BIN = \"word_count_bin\"\n",
    "WORD_COUNT_COLUMN = \"word_count\"\n",
    "OUT_LINKS_BIN = \"out_links_bin\"\n",
    "OUT_LINKS_COLUMN= \"out_links_count\"\n",
    "IN_LINKS_BIN = \"in_links_bin\"\n",
    "IN_LINKS_COLUMN = \"in_links_count_column\"\n",
    "MODEL_COLUMN = \"model\"\n",
    "\n",
    "selected_models = [\n",
    "            \"doc2vec_cosine\",\n",
    "            \"doc2vec_no_sigmoid\",\n",
    "            \"paragraph_no_sigmoid\",\n",
    "            \"sentence_no_sigmoid\",\n",
    "            \"wikipedia2vec_cosine\",\n",
    "            \"wikipedia2vec_no_sigmoid\",\n",
    "            \"word_no_sigmoid\",\n",
    "        ]\n",
    "\n",
    "\n",
    "\n",
    "def get_performance_figure(\n",
    "    results,\n",
    "    models,\n",
    "    feature_column,\n",
    "    x_label,\n",
    "    y_label=None,\n",
    "    figsize=(13, 6),\n",
    "    legend_columns_count=4,\n",
    "    buckets_count=5,\n",
    "    save_file_path=None,\n",
    "):\n",
    "    bin_column = f\"{feature_column}_bin\"\n",
    "    bins = pd.qcut(results[feature_column], q=buckets_count)\n",
    "\n",
    "    results[bin_column] = bins\n",
    "    result_by_model = results.groupby([bin_column]).mean()[models]\n",
    "\n",
    "    fig = plt.figure(figsize=figsize)\n",
    "\n",
    "    ax = result_by_model.plot(\n",
    "        kind=\"bar\", ax=fig.gca(), rot=0, width=0.7, alpha=0.9, edgecolor=[\"black\"],\n",
    "    )\n",
    "\n",
    "    box = ax.get_position()\n",
    "    ax.set_position([box.x0, box.y0 + box.height * 0.25, box.width, box.height * 0.75])\n",
    "\n",
    "    ax.legend(\n",
    "        ncol=legend_columns_count,\n",
    "        loc=\"upper center\",\n",
    "        fancybox=True,\n",
    "        shadow=False,\n",
    "        bbox_to_anchor=(0.5, 1.2),\n",
    "    )\n",
    "\n",
    "    # Formats the x label as \"(lower, upper]\"\n",
    "    ax.set_xticklabels(\n",
    "        [f\"({int(i.left)}, {int(i.right)}]\" for i in bins.cat.categories]\n",
    "    )\n",
    "\n",
    "    y_label = \"NDCG@k (k=5)\"\n",
    "    ax.set_xlabel(x_label % len(result_by_model))\n",
    "    ax.set_ylabel(y_label)\n",
    "\n",
    "    if save_file_path:\n",
    "        pdf_dpi = 300\n",
    "\n",
    "        logger.info(f\"Saved to {save_file_path}\")\n",
    "        plt.savefig(save_file_path, bbox_inches=\"tight\", dpi=pdf_dpi)\n",
    "\n",
    "    plt.show()"
   ]
  },
  {
   "cell_type": "code",
   "execution_count": 49,
   "metadata": {},
   "outputs": [
    {
     "data": {
      "image/png": "[encoded data removed]",
      "text/plain": [
       "<Figure size 936x432 with 1 Axes>"
      ]
     },
     "metadata": {
      "needs_background": "light"
     },
     "output_type": "display_data"
    }
   ],
   "source": [
    "get_performance_figure(results, selected_models, WORD_COUNT_COLUMN, \"Text length as word count (%s equal-sized buckets)\")\n",
    "# results"
   ]
  },
  {
   "cell_type": "code",
   "execution_count": null,
   "metadata": {},
   "outputs": [],
   "source": []
  },
  {
   "cell_type": "code",
   "execution_count": null,
   "metadata": {},
   "outputs": [],
   "source": [
    "models = [\"wikipedia2vec_no_sigmoid\", \"word_no_sigmoid\"]\n",
    "get_performance_figure(ndcg_by_model_and_article, models, WORD_COUNT_COLUMN, 'Text length as word count (%s equal-sized buckets)')"
   ]
  },
  {
   "cell_type": "code",
   "execution_count": null,
   "metadata": {},
   "outputs": [],
   "source": [
    "results_analyzer.get_map_for_all_models()"
   ]
  },
  {
   "cell_type": "markdown",
   "metadata": {},
   "source": [
    "Getting a sample of the results"
   ]
  },
  {
   "cell_type": "code",
   "execution_count": null,
   "metadata": {},
   "outputs": [],
   "source": [
    "results_analyzer.results.sample(n=10)"
   ]
  },
  {
   "cell_type": "markdown",
   "metadata": {},
   "source": [
    "Getting a sample of the source articles"
   ]
  },
  {
   "cell_type": "code",
   "execution_count": null,
   "metadata": {
    "pycharm": {
     "is_executing": false
    }
   },
   "outputs": [],
   "source": [
    "results_analyzer.get_sample_source_articles()"
   ]
  },
  {
   "cell_type": "markdown",
   "metadata": {},
   "source": [
    "Getting all the available models (models `paragraph`, `sentence` and `word` refer to Smash-RNN levels.)"
   ]
  },
  {
   "cell_type": "code",
   "execution_count": null,
   "metadata": {},
   "outputs": [],
   "source": [
    "results_analyzer.get_models()"
   ]
  },
  {
   "cell_type": "markdown",
   "metadata": {},
   "source": [
    "Getting the top 5 predictions for a `source_article` and a `model`"
   ]
  },
  {
   "cell_type": "code",
   "execution_count": null,
   "metadata": {},
   "outputs": [],
   "source": [
    "sample_source_article = \"Ireland\"\n",
    "model = \"wikipedia2vec\"\n",
    "\n",
    "results_analyzer.get_top_10_predicted_by_article_and_model(sample_source_article, model)"
   ]
  },
  {
   "cell_type": "markdown",
   "metadata": {},
   "source": [
    "Next steps:\n",
    "- Create some analytics to understand better the results for each model (I will need help here!)"
   ]
  }
 ],
 "metadata": {
  "kernelspec": {
   "display_name": "Python 3.7.4 64-bit ('thesis-davi': conda)",
   "language": "python",
   "name": "python37464bitthesisdaviconda173753154baf4ea5aebc1bb5b4a5349a"
  },
  "language_info": {
   "codemirror_mode": {
    "name": "ipython",
    "version": 3
   },
   "file_extension": ".py",
   "mimetype": "text/x-python",
   "name": "python",
   "nbconvert_exporter": "python",
   "pygments_lexer": "ipython3",
   "version": "3.7.4"
  }
 },
 "nbformat": 4,
 "nbformat_minor": 2
}
