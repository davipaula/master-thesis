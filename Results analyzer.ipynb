{
 "cells": [
  {
   "cell_type": "markdown",
   "metadata": {},
   "source": [
    "This notebook allows to explore the results of predicting the `click_rate` from `source_article` to `target_article` using different models (Doc2Vec, Wikipedia2Vec, Smash-RNN Paragraph Level, Smash-RNN Sentence Level and Smash-RNN Word Level).\n",
    "\n",
    "The class `ResultsAnalyzer` encapsules the logic to compute the results. Main features:\n",
    "- `get_ndcg_for_all_models`: Calculates the Normalized Discounted Cumulative Gain for each model\n",
    "- `get_map_for_all_models`: Calculates the Mean Average Precision for each model\n",
    "- `get_top_5_predicted_by_article_and_model(source_article, model)`: Gets the top 5 predictions for the `source_article`. The column `is_in_top_5` shows if the `target_article` is in the **actual** top 5 click rate.\n",
    "- `ResultsAnalyzer.results`: It is a Pandas Datafram containing the consolidated results\n",
    "- `get_sample_source_articles`: Samples 10 random `source_articles`. Can be used to manually check the results"
   ]
  },
  {
   "cell_type": "code",
   "execution_count": 5,
   "metadata": {},
   "outputs": [],
   "source": [
    "import matplotlib\n",
    "%matplotlib inline\n",
    "import pandas as pd\n",
    "import numpy as np\n",
    "import seaborn as sns\n",
    "\n",
    "from results_analyzer import ResultsAnalyzer\n",
    "\n",
    "from utils.constants import (WORD_COUNT_BIN,\n",
    "OUT_LINKS_BIN,\n",
    "OUT_LINKS_COLUMN,\n",
    "IN_LINKS_BIN,\n",
    "IN_LINKS_COLUMN,\n",
    "PARAGRAPH_COUNT_BIN,\n",
    "SENTENCE_COUNT_BIN,\n",
    "WORD_COUNT_COLUMN,\n",
    "SENTENCE_COUNT_COLUMN,\n",
    "PARAGRAPH_COUNT_COLUMN,\n",
    "MISSING_WORDS_COLUMN,\n",
    "MISSING_WORDS_BIN,\n",
    "MODEL_COLUMN,\n",
    "SMASH_MODELS,\n",
    "COMPLETE_MODELS,\n",
    "COSINE_MODELS,\n",
    "SMASH_WORD_LEVEL)\n",
    "\n",
    "pd.options.display.float_format = '{:,.4f}'.format\n",
    "results_analyzer = ResultsAnalyzer()"
   ]
  },
  {
   "cell_type": "markdown",
   "metadata": {},
   "source": [
    "The first step is to calculate the NDCG@10 for all models and articles. This will be used to all the further calculations, tables and figures:"
   ]
  },
  {
   "cell_type": "code",
   "execution_count": null,
   "metadata": {},
   "outputs": [],
   "source": [
    "_results = results_analyzer.calculate_statistics_per_article()"
   ]
  },
  {
   "cell_type": "markdown",
   "metadata": {},
   "source": [
    "To generate the performance figures according to the source articles features, you can use the function `get_performance_figure`:"
   ]
  },
  {
   "cell_type": "code",
   "execution_count": 6,
   "metadata": {},
   "outputs": [
    {
     "name": "stderr",
     "output_type": "stream",
     "text": [
      "[2020-11-17 20:07:39,164] [INFO] Getting features from DB (calculate_statistics_per_article@results_analyzer.py:428)\n",
      "[2020-11-17 20:07:39,471] [INFO] Getting predictions by model (calculate_statistics_per_article@results_analyzer.py:447)\n",
      "[2020-11-17 20:07:39,483] [INFO] Aggregating predictions for each model (get_predictions_by_model@results_analyzer.py:247)\n",
      "100%|██████████| 10/10 [00:07<00:00,  1.31it/s]\n",
      "[2020-11-17 20:07:47,116] [INFO] Calculating results by model (calculate_statistics_per_article@results_analyzer.py:456)\n",
      "100%|██████████| 474/474 [00:04<00:00, 111.17it/s]\n",
      "100%|██████████| 474/474 [00:04<00:00, 110.43it/s]\n",
      "100%|██████████| 474/474 [00:04<00:00, 112.22it/s]\n",
      "100%|██████████| 474/474 [00:04<00:00, 111.72it/s]\n",
      "100%|██████████| 474/474 [00:04<00:00, 112.91it/s]\n",
      "100%|██████████| 474/474 [00:04<00:00, 112.14it/s]\n",
      "100%|██████████| 474/474 [00:04<00:00, 112.80it/s]\n",
      "100%|██████████| 474/474 [00:04<00:00, 112.65it/s]\n",
      "100%|██████████| 474/474 [00:04<00:00, 111.59it/s]\n",
      "100%|██████████| 474/474 [00:04<00:00, 111.97it/s]\n"
     ]
    },
    {
     "data": {
      "image/png": "[encoded data removed]",
      "text/plain": [
       "<Figure size 936x432 with 1 Axes>"
      ]
     },
     "metadata": {
      "needs_background": "light"
     },
     "output_type": "display_data"
    }
   ],
   "source": [
    "results_analyzer.get_performance_figure(SMASH_MODELS, \n",
    "                                        WORD_COUNT_COLUMN, \n",
    "                                        \"Text length as sentence count (%s equal-sized buckets)\",\n",
    "                                       )"
   ]
  },
  {
   "cell_type": "markdown",
   "metadata": {},
   "source": [
    "To generate the overall performance table by model, you can use the function `get_performance_by_model`. The parameter can take the constants `COMPLETE_MODELS`, `SMASH_MODELS` or `COSINE_MODELS`"
   ]
  },
  {
   "cell_type": "code",
   "execution_count": null,
   "metadata": {},
   "outputs": [],
   "source": [
    "`"
   ]
  },
  {
   "cell_type": "markdown",
   "metadata": {},
   "source": [
    "To generate the performance table for different `ks`, you can use the function `get_performance_different_k`. The parameter `selected_models` can take the constants COMPLETE_MODELS, SMASH_MODELS or COSINE_MODELS. The parameter `ks` can take a list of integers."
   ]
  },
  {
   "cell_type": "code",
   "execution_count": null,
   "metadata": {},
   "outputs": [],
   "source": [
    "results_analyzer.get_performance_different_k(COMPLETE_MODELS, ks=[1, 3, 5, 10])"
   ]
  },
  {
   "cell_type": "markdown",
   "metadata": {},
   "source": [
    "To generate a table with the actual and predicted results for an article, you can use the function `get_article_results`. If no parameters are given, it will select a random article for the model `SMASH RNN (P + S + W)`."
   ]
  },
  {
   "cell_type": "code",
   "execution_count": 7,
   "metadata": {},
   "outputs": [
    {
     "name": "stdout",
     "output_type": "stream",
     "text": [
      "Source article: Battle: Los Angeles\n",
      "         actual click rate               smash_word_level\n",
      "0            Aaron Eckhart            Skyline (2010 film)\n",
      "1       Michelle Rodriguez                    1941 (film)\n",
      "2  Ramón Rodríguez (actor)                  Aaron Eckhart\n",
      "3         Bridget Moynahan                  Will Rothhaar\n",
      "4    Battle of Los Angeles               Bridget Moynahan\n",
      "5       Jonathan Liebesman                   Michael Peña\n",
      "6                    Ne-Yo  War of the Worlds (2005 film)\n",
      "7             Michael Peña   Independence Day (1996 film)\n",
      "8            Will Rothhaar             Michelle Rodriguez\n",
      "9              Jim Parrack                    Jim Parrack\n"
     ]
    }
   ],
   "source": [
    "results_analyzer.get_article_results()"
   ]
  }
 ],
 "metadata": {
  "kernelspec": {
   "display_name": "Python 3.7.4 64-bit ('thesis-davi': conda)",
   "language": "python",
   "name": "python37464bitthesisdaviconda173753154baf4ea5aebc1bb5b4a5349a"
  },
  "language_info": {
   "codemirror_mode": {
    "name": "ipython",
    "version": 3
   },
   "file_extension": ".py",
   "mimetype": "text/x-python",
   "name": "python",
   "nbconvert_exporter": "python",
   "pygments_lexer": "ipython3",
   "version": "3.7.4"
  }
 },
 "nbformat": 4,
 "nbformat_minor": 2
}
